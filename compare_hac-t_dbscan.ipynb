{
 "cells": [
  {
   "cell_type": "code",
   "execution_count": 1,
   "id": "990ef513",
   "metadata": {},
   "outputs": [
    {
     "name": "stdout",
     "output_type": "stream",
     "text": [
      "\t\tHAC-T\t\t|\t\tDBSCAN\n",
      "size\ttime\tnclust\tndist\t|\ttime\tnclust\tndist\n"
     ]
    },
    {
     "ename": "TypeError",
     "evalue": "HAC_T() missing 1 required positional argument: 'cenfname'",
     "output_type": "error",
     "traceback": [
      "\u001b[1;31m---------------------------------------------------------------------------\u001b[0m",
      "\u001b[1;31mTypeError\u001b[0m                                 Traceback (most recent call last)",
      "\u001b[1;32m~\\AppData\\Local\\Temp/ipykernel_18800/3883946114.py\u001b[0m in \u001b[0;36m<module>\u001b[1;34m\u001b[0m\n\u001b[0;32m     18\u001b[0m         \u001b[0mhac_resetDistCalc\u001b[0m\u001b[1;33m(\u001b[0m\u001b[1;33m)\u001b[0m\u001b[1;33m\u001b[0m\u001b[1;33m\u001b[0m\u001b[0m\n\u001b[0;32m     19\u001b[0m         \u001b[0mtic\u001b[0m \u001b[1;33m=\u001b[0m \u001b[0mtime\u001b[0m\u001b[1;33m.\u001b[0m\u001b[0mperf_counter\u001b[0m\u001b[1;33m(\u001b[0m\u001b[1;33m)\u001b[0m\u001b[1;33m\u001b[0m\u001b[1;33m\u001b[0m\u001b[0m\n\u001b[1;32m---> 20\u001b[1;33m         \u001b[0mhac_res\u001b[0m \u001b[1;33m=\u001b[0m \u001b[0mHAC_T\u001b[0m\u001b[1;33m(\u001b[0m\u001b[0mdatafile\u001b[0m\u001b[1;33m,\u001b[0m \u001b[0mCDist\u001b[0m\u001b[1;33m=\u001b[0m\u001b[1;36m30\u001b[0m\u001b[1;33m,\u001b[0m \u001b[0mstep3\u001b[0m\u001b[1;33m=\u001b[0m\u001b[1;36m0\u001b[0m\u001b[1;33m,\u001b[0m \u001b[0moutfname\u001b[0m\u001b[1;33m=\u001b[0m\u001b[1;34m\"tmp.txt\"\u001b[0m\u001b[1;33m)\u001b[0m\u001b[1;33m\u001b[0m\u001b[1;33m\u001b[0m\u001b[0m\n\u001b[0m\u001b[0;32m     21\u001b[0m         \u001b[0mtoc\u001b[0m \u001b[1;33m=\u001b[0m \u001b[0mtime\u001b[0m\u001b[1;33m.\u001b[0m\u001b[0mperf_counter\u001b[0m\u001b[1;33m(\u001b[0m\u001b[1;33m)\u001b[0m\u001b[1;33m\u001b[0m\u001b[1;33m\u001b[0m\u001b[0m\n\u001b[0;32m     22\u001b[0m         \u001b[0mhac_nDistCalc\u001b[0m \u001b[1;33m=\u001b[0m \u001b[0mhac_lookupDistCalc\u001b[0m\u001b[1;33m(\u001b[0m\u001b[1;33m)\u001b[0m\u001b[1;33m\u001b[0m\u001b[1;33m\u001b[0m\u001b[0m\n",
      "\u001b[1;31mTypeError\u001b[0m: HAC_T() missing 1 required positional argument: 'cenfname'"
     ]
    }
   ],
   "source": [
    "from pylib.tlsh_lib import *\n",
    "from pylib.hac_lib  import *\n",
    "import time\n",
    "\n",
    "# (tlist, labelList) = tlsh_csvfile(\"dataDir/mb_10K.csv\")\n",
    "\n",
    "print(\"\\t\\tHAC-T\\t\\t|\\t\\tDBSCAN\")\n",
    "print(\"size\\ttime\\tnclust\\tndist\\t|\\ttime\\tnclust\\tndist\")\n",
    "\n",
    "largeK = 7\n",
    "hac_time = [0] * (largeK)\n",
    "dbs_time = [0] * (largeK)\n",
    "\n",
    "for size in range(1, largeK):\n",
    "    datafile = \"dataDir/mb_\" + str(size) + \"K.csv\"\n",
    "    (tlist, labelList) = tlsh_csvfile(datafile)\n",
    "    if (tlist is not None):\n",
    "        hac_resetDistCalc()\n",
    "        tic = time.perf_counter()\n",
    "        hac_res = HAC_T(datafile, CDist=30, step3=0, outfname=\"tmp.txt\")\n",
    "        toc = time.perf_counter()\n",
    "        hac_nDistCalc = hac_lookupDistCalc()\n",
    "        hac_time[size] = toc-tic\n",
    "        htime          = f\"{hac_time[size]:0.4f}\"\n",
    "        hac_nclusters = max(hac_res)\n",
    "        \n",
    "        outfile = \"dataDir/mb_\" + str(size) + \"K_hac-t_out.txt\"\n",
    "        outputClusters(outfile, tlist, hac_res, labelList, quiet=True)\n",
    "        \n",
    "        resetDistCalc()\n",
    "        tic = time.perf_counter()\n",
    "        dbs_res = runDBSCAN(tlist, eps=30, min_samples=2, algorithm='auto')\n",
    "        toc = time.perf_counter()\n",
    "        dbs_nDistCalc = lookupDistCalc()\n",
    "        dbs_time[size] = toc-tic\n",
    "        dtime          = f\"{dbs_time[size]:0.4f}\"\n",
    "        dbs_nclusters = max(dbs_res.labels_)\n",
    "        \n",
    "        outfile = \"dataDir/mb_\" + str(size) + \"K_dbscan_out.txt\"\n",
    "        outputClusters(outfile, tlist, dbs_res.labels_, labelList, quiet=True)\n",
    "        \n",
    "        print( str(size) + \"K\\t\" +\n",
    "                htime + \"\\t\" + str(hac_nclusters) + \"\\t\" + str(hac_nDistCalc) + \"\\t|\\t\"\n",
    "              + dtime + \"\\t\" + str(dbs_nclusters) + \"\\t\" + str(dbs_nDistCalc)  )\n",
    "    # end if\n",
    "# end for\n",
    "\n",
    "srange = [x for x in range(0, largeK*1000, 1000)]\n",
    "\n",
    "import matplotlib.pyplot as plt\n",
    "line1, = plt.plot(srange, hac_time,  label='HAC-T')\n",
    "line2, = plt.plot(srange, dbs_time,  label='DBSCAN')\n",
    "plt.legend(handles=[line1, line2], loc='upper left')\n",
    "plt.xlabel('Size dataset', fontsize=15)\n",
    "plt.ylabel('time (sec)', fontsize=15)\n",
    "plt.show()"
   ]
  },
  {
   "cell_type": "code",
   "execution_count": null,
   "id": "765b8c79",
   "metadata": {},
   "outputs": [],
   "source": [
    "\n"
   ]
  },
  {
   "cell_type": "code",
   "execution_count": null,
   "id": "3c1d9e09",
   "metadata": {},
   "outputs": [],
   "source": []
  }
 ],
 "metadata": {
  "kernelspec": {
   "display_name": "Python 3 (ipykernel)",
   "language": "python",
   "name": "python3"
  },
  "language_info": {
   "codemirror_mode": {
    "name": "ipython",
    "version": 3
   },
   "file_extension": ".py",
   "mimetype": "text/x-python",
   "name": "python",
   "nbconvert_exporter": "python",
   "pygments_lexer": "ipython3",
   "version": "3.9.7"
  }
 },
 "nbformat": 4,
 "nbformat_minor": 5
}
