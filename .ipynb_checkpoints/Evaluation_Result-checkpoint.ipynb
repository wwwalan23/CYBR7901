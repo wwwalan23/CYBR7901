{
 "cells": [
  {
   "cell_type": "markdown",
   "id": "b6c9fa24",
   "metadata": {},
   "source": [
    "# Evaluation Result"
   ]
  },
  {
   "cell_type": "code",
   "execution_count": 1,
   "id": "a67543be",
   "metadata": {},
   "outputs": [],
   "source": [
    "from sklearn import metrics\n",
    "from pylib.tlsh_lib import *\n",
    "import numpy as np\n",
    "import pandas as pd\n",
    "import time\n",
    "import argparse\n",
    "import sys\n",
    "import warnings\n",
    "warnings.filterwarnings(\"ignore\")"
   ]
  },
  {
   "cell_type": "code",
   "execution_count": 2,
   "id": "a924d36b",
   "metadata": {},
   "outputs": [],
   "source": [
    "# List of Function\n",
    "def containNan(labelList):\n",
    "    for lable in labelList:\n",
    "        if lable == 'n/a':\n",
    "            haveNan = True\n",
    "            return haveNan\n",
    "\n",
    "def removeNan(hashlist, labelList):\n",
    "    count = -1\n",
    "    newhashlist = []\n",
    "    newlabelList = []\n",
    "\n",
    "    for lable in labelList:\n",
    "        count += 1\n",
    "        if lable != 'n/a':\n",
    "            newhashlist.append(hashlist[count])\n",
    "            newlabelList.append(labelList[count])\n",
    "    return newhashlist, newlabelList"
   ]
  },
  {
   "cell_type": "code",
   "execution_count": 3,
   "id": "1f08e0d1",
   "metadata": {},
   "outputs": [],
   "source": [
    "def getResult(hashType, clusterType, labelList, clusterNumber):\n",
    "    d = {word: key for key, word in enumerate(set(labelList))}\n",
    "    labelList_id = [d[word] for word in labelList]\n",
    "    a = np.array(labelList_id).reshape(-1, 1)\n",
    "\n",
    "    # decimal place\n",
    "    dp = 4\n",
    "\n",
    "    homo = round(metrics.homogeneity_score(labelList_id, clusterNumber), dp)\n",
    "    silh = round(metrics.silhouette_score(a, clusterNumber, metric='euclidean'), dp)\n",
    "    cali = round(metrics.calinski_harabasz_score(a, clusterNumber), dp)\n",
    "    dav = round(metrics.davies_bouldin_score(a, clusterNumber), dp)\n",
    "\n",
    "    # print(\"Homogeneity score is \" + str(homo))\n",
    "    # print(\"Silhouette score is \" + str(silh))\n",
    "    # print(\"Calinski harabasz score is \" + str(cali))\n",
    "    # print(\"Davies bouldin score is \" + str(dav))\n",
    "\n",
    "    result = {\"File\": str(filename),\n",
    "              \"nSample\": int(len(tlist)),\n",
    "              \"Hash\": str(hashType),\n",
    "              \"Cluster\": str(clusterType),\n",
    "              \"Has_n/a\": bool(containNan(labelList)),\n",
    "              \"nLabel\": int(nlable),\n",
    "              \"nCluster\": int(max(clusterNumber)),\n",
    "              \"Time(s)\": float(end),\n",
    "              \"Homo.\": float(homo),\n",
    "              \"Sil.\": float(silh),\n",
    "              \"Cal.\": float(cali),\n",
    "              \"Dav.\": float(dav)}\n",
    "    return result"
   ]
  },
  {
   "cell_type": "code",
   "execution_count": 4,
   "id": "3f5af373",
   "metadata": {},
   "outputs": [],
   "source": [
    "# start of main program\n",
    "\n",
    "parser = argparse.ArgumentParser(prog='readcsv')  # provides a convenient interface to handle command-line arguments.\n",
    "parser.add_argument('-f', help='fname', type=str, default=\"\")  # the extra part need to run file\n",
    "args = parser.parse_args()\n",
    "datafile = args.f\n",
    "\n",
    "datafile = \"dataDir/mb_1K.csv\" #<-----Change this file size\n",
    "\n",
    "if (datafile == \"\"):\n",
    "    print(\"you must provide a datafile name (-f)\\n\")\n",
    "    sys.exit()\n",
    "# end if"
   ]
  },
  {
   "cell_type": "code",
   "execution_count": 5,
   "id": "89ccbaa4",
   "metadata": {},
   "outputs": [
    {
     "name": "stdout",
     "output_type": "stream",
     "text": [
      "Number of samples is 1000\n",
      "Number of Unique Lable is 56\n",
      "['T134A4C0203AFA9015F1B3AFB98ED575969B6EF7633603E51E2490038B0613F81DE8157E', 'T1B4D423DF86D730F97196CFCE23860A7E845A27BDA7313AC50205FBE574A141122B8E5E', 'T16B45EC38ED0A22B7EBA5D334E0BA581AA1F51CBB33308D1DD9D6764E1937603709636D', 'T1DA7579A92363AC2AF31B04BB1473B00BD5617B8DDC14B7652D39367A51AE371B1F4B82', 'T149A42311209DA1BCFE81886F17D7AD62F3CA2E5426B67F40824427B82FD8E564FF494D', 'T1F61302834697D5F638BB97C9781842BC88A4F370BA19FB11E5F801935F45294FA884FC', 'T180A4C0243AFE511DF173AF794AE475D69ABEBB333B06D45D1451038A4A22B81CEC063B', 'T18CD4F1120FDE441AC78FB0BCD7199CCB76A6CD4C5B5845F2127D76AA2E34232E38817A', 'T1BDA42311209DA1BCFE81886F17D39D62F3CA2E5526B67F40824427B82FD8E564FF454D', 'T1052512A82710AA66DADE0F73C1234589D330A5665742F40F79D6A2D73EB2ACFB5050CF']\n"
     ]
    }
   ],
   "source": [
    "tic = time.perf_counter()  # experiment time counter\n",
    "haveNan = False\n",
    "df = pd.DataFrame()\n",
    "\n",
    "(path, file) = datafile.split(\"/\")  # save file path\n",
    "(filename, filetype) = file.split(\".\")  # save file type\n",
    "\n",
    "(tlist, [labelList, dateList, slist]) = tlsh_csvfile(datafile)  # return (tlist, [labelList, dateList, hashList])\n",
    "# (tlist, labelList) = tlsh_csvfile(datafile)\n",
    "\n",
    "# remove Nan Value\n",
    "#(tlist, labelList) = removeNan(tlist, labelList)\n",
    "\n",
    "hashList = tlist\n",
    "print(\"Number of samples is \" + str(len(hashList)))\n",
    "print(\"Number of Unique Lable is \" + str(len(set(labelList))))\n",
    "print(hashList[0:10])\n",
    "nlable = len(set(labelList))\n",
    "haveNan = containNan(labelList)"
   ]
  },
  {
   "cell_type": "markdown",
   "id": "cd3f83a4",
   "metadata": {},
   "source": [
    "# TLSH Agglomerative Clustering"
   ]
  },
  {
   "cell_type": "code",
   "execution_count": 6,
   "id": "a5a6a8ce",
   "metadata": {},
   "outputs": [
    {
     "name": "stdout",
     "output_type": "stream",
     "text": [
      "hac\n",
      "Code ran in 0.7462 seconds\n"
     ]
    }
   ],
   "source": [
    "try:\n",
    "    start = time.perf_counter()\n",
    "    res = assignCluster(hashList, nlable)\n",
    "    end = round(time.perf_counter() - start, 4)\n",
    "\n",
    "    dict = getResult(\"tlsh\", \"hac\", labelList, res.labels_)\n",
    "    df = pd.concat([df, pd.DataFrame(dict, index=[0])])\n",
    "    print(dict.get('Cluster'))\n",
    "    print(\"Code ran in \" + str(end) + \" seconds\")\n",
    "except Exception as e:\n",
    "    print(\"Agglomerative Clustering didn't work.\")\n",
    "    print(e)"
   ]
  },
  {
   "cell_type": "markdown",
   "id": "8ee8c737",
   "metadata": {},
   "source": [
    "# TLSH HAC-T"
   ]
  },
  {
   "cell_type": "code",
   "execution_count": 7,
   "id": "b2199235",
   "metadata": {},
   "outputs": [
    {
     "name": "stdout",
     "output_type": "stream",
     "text": [
      "hac-t\n",
      "Code ran in 0.3445 seconds\n",
      "nclusters is 85\n",
      "nDistCalc is 227245\n"
     ]
    }
   ],
   "source": [
    "from pylib.hac_lib import *\n",
    "\n",
    "try:\n",
    "    hac_resetDistCalc()\n",
    "\n",
    "    start = time.perf_counter()\n",
    "    res = HAC_T(datafile, CDist=30, step3=0, outfname=\"tmp.txt\", cenfname=\"tmp2.txt\")\n",
    "    end = round(time.perf_counter() - start, 4)\n",
    "\n",
    "    dict = getResult(\"tlsh\", \"hac-t\", labelList, res)\n",
    "    df = pd.concat([df, pd.DataFrame(dict, index=[0])])\n",
    "    print(dict.get('Cluster'))\n",
    "    print(\"Code ran in \" + str(end) + \" seconds\")\n",
    "\n",
    "    nclusters = max(res)\n",
    "    nDistCalc = hac_lookupDistCalc()\n",
    "    print(\"nclusters is \" + str(nclusters))\n",
    "    print(\"nDistCalc is \" + str(nDistCalc))\n",
    "except Exception as e:\n",
    "    print(\"HAC-T didn't work.\")\n",
    "    print(e)"
   ]
  },
  {
   "cell_type": "markdown",
   "id": "cbada2be",
   "metadata": {},
   "source": [
    "# TLSH DBSCAN"
   ]
  },
  {
   "cell_type": "code",
   "execution_count": 8,
   "id": "72f27854",
   "metadata": {},
   "outputs": [
    {
     "name": "stdout",
     "output_type": "stream",
     "text": [
      "dbscan\n",
      "Code ran in 2.2475 seconds\n",
      "nclusters is 71\n",
      "nDistCalc is 961443\n"
     ]
    }
   ],
   "source": [
    "from pylib.hac_lib import *\n",
    "\n",
    "try:\n",
    "    resetDistCalc()\n",
    "\n",
    "    start = time.perf_counter()\n",
    "    res = runDBSCAN(hashList, eps=30, min_samples=2, algorithm='auto')\n",
    "    end = round(time.perf_counter() - start, 4)\n",
    "\n",
    "    dict = getResult(\"tlsh\", \"dbscan\", labelList, res.labels_)\n",
    "    df = pd.concat([df, pd.DataFrame(dict, index=[0])])\n",
    "    print(dict.get('Cluster'))\n",
    "    print(\"Code ran in \" + str(end) + \" seconds\")\n",
    "\n",
    "    nclusters = max(res.labels_)\n",
    "    nDistCalc = lookupDistCalc()\n",
    "    print(\"nclusters is \" + str(nclusters))\n",
    "    print(\"nDistCalc is \" + str(nDistCalc))\n",
    "except Exception as e:\n",
    "    print(\"DBSCAN didn't work.\")\n",
    "    print(e)"
   ]
  },
  {
   "cell_type": "markdown",
   "id": "eb3645a4",
   "metadata": {},
   "source": [
    "# TLSH KMeans"
   ]
  },
  {
   "cell_type": "code",
   "execution_count": 9,
   "id": "66fafc57",
   "metadata": {},
   "outputs": [
    {
     "name": "stdout",
     "output_type": "stream",
     "text": [
      "kmeans\n",
      "Code ran in 0.5338 seconds\n"
     ]
    }
   ],
   "source": [
    "try:\n",
    "    start = time.perf_counter()\n",
    "    res = runKMean(hashList, nlable)\n",
    "    end = round(time.perf_counter() - start, 4)\n",
    "\n",
    "    dict = getResult(\"tlsh\", \"kmeans\", labelList, res.labels_)\n",
    "    df = pd.concat([df, pd.DataFrame(dict, index=[0])])\n",
    "    print(dict.get('Cluster'))\n",
    "    print(\"Code ran in \" + str(end) + \" seconds\")\n",
    "except Exception as e:\n",
    "    print(\"KMean didn't work.\")\n",
    "    print(e)"
   ]
  },
  {
   "cell_type": "markdown",
   "id": "7439c64d",
   "metadata": {},
   "source": [
    "# Affinity Propagation"
   ]
  },
  {
   "cell_type": "code",
   "execution_count": 10,
   "id": "15fa8718",
   "metadata": {},
   "outputs": [
    {
     "name": "stdout",
     "output_type": "stream",
     "text": [
      "Affinity Propagation didn't work.\n",
      "Affinity must be 'precomputed' or 'euclidean'. Got <function sim_affinity at 0x00000173C9998310> instead\n"
     ]
    }
   ],
   "source": [
    "try:\n",
    "    start = time.perf_counter()\n",
    "    res = runAffinityPropagation(hashList, 5)\n",
    "    end = round(time.perf_counter() - start, 4)\n",
    "\n",
    "    dict = getResult(\"tlsh\", \"ap\", labelList, res.labels_)\n",
    "    df = pd.concat([df, pd.DataFrame(dict, index=[0])])\n",
    "    print(dict.get('Cluster'))\n",
    "    print(\"Code ran in \" + str(end) + \" seconds\")\n",
    "except Exception as e:\n",
    "    print(\"Affinity Propagation didn't work.\")\n",
    "    print(e)"
   ]
  },
  {
   "cell_type": "markdown",
   "id": "1052437b",
   "metadata": {},
   "source": [
    "# Mean Shift"
   ]
  },
  {
   "cell_type": "code",
   "execution_count": 11,
   "id": "ad493498",
   "metadata": {},
   "outputs": [
    {
     "name": "stdout",
     "output_type": "stream",
     "text": [
      "ms\n",
      "Code ran in 1.5852 seconds\n"
     ]
    }
   ],
   "source": [
    "try:\n",
    "    start = time.perf_counter()\n",
    "    res = runMeanShift(hashList, 5)\n",
    "    end = round(time.perf_counter() - start, 4)\n",
    "\n",
    "    dict = getResult(\"tlsh\", \"ms\", labelList, res.labels_)\n",
    "    df = pd.concat([df, pd.DataFrame(dict, index=[0])])\n",
    "    print(dict.get('Cluster'))\n",
    "    print(\"Code ran in \" + str(end) + \" seconds\")\n",
    "except Exception as e:\n",
    "    print(\"Mean Shift didn't work.\")\n",
    "    print(e)"
   ]
  },
  {
   "cell_type": "markdown",
   "id": "e8a69ed7",
   "metadata": {},
   "source": [
    "# Spectral Clustering"
   ]
  },
  {
   "cell_type": "code",
   "execution_count": 12,
   "id": "747d1566",
   "metadata": {},
   "outputs": [
    {
     "name": "stdout",
     "output_type": "stream",
     "text": [
      "sp\n",
      "Code ran in 1.5126 seconds\n"
     ]
    }
   ],
   "source": [
    "try:\n",
    "    start = time.perf_counter()\n",
    "    res = runMeanShift(hashList, 5)\n",
    "    end = round(time.perf_counter() - start, 4)\n",
    "\n",
    "    dict = getResult(\"tlsh\", \"sp\", labelList, res.labels_)\n",
    "    df = pd.concat([df, pd.DataFrame(dict, index=[0])])\n",
    "    print(dict.get('Cluster'))\n",
    "    print(\"Code ran in \" + str(end) + \" seconds\")\n",
    "except Exception as e:\n",
    "    print(\"Spectral Clustering didn't work.\")\n",
    "    print(e)"
   ]
  },
  {
   "cell_type": "markdown",
   "id": "b1342772",
   "metadata": {},
   "source": [
    "# OPTICS"
   ]
  },
  {
   "cell_type": "code",
   "execution_count": 24,
   "id": "3f4c2e6b",
   "metadata": {},
   "outputs": [
    {
     "name": "stderr",
     "output_type": "stream",
     "text": [
      "C:\\Users\\user\\anaconda3\\envs\\tlshCluster\\lib\\site-packages\\sklearn\\cluster\\_optics.py:903: RuntimeWarning: divide by zero encountered in true_divide\n",
      "  ratio = reachability_plot[:-1] / reachability_plot[1:]\n"
     ]
    },
    {
     "name": "stdout",
     "output_type": "stream",
     "text": [
      "optics\n",
      "Code ran in 6.8752 seconds\n"
     ]
    }
   ],
   "source": [
    "try:\n",
    "    start = time.perf_counter()\n",
    "    res = runOPTICS(hashList, min_samples=2)\n",
    "    end = round(time.perf_counter() - start, 4)\n",
    "\n",
    "    dict = getResult(\"tlsh\", \"optics\", labelList, res.labels_)\n",
    "    df = pd.concat([df, pd.DataFrame([dict])])\n",
    "    print(dict.get('Cluster'))\n",
    "    print(\"Code ran in \" + str(end) + \" seconds\")\n",
    "except Exception as e:\n",
    "    print(\"OPTICS didn't work.\")\n",
    "    print(e)"
   ]
  },
  {
   "cell_type": "markdown",
   "id": "5621ba8b",
   "metadata": {},
   "source": [
    "# BIRCH"
   ]
  },
  {
   "cell_type": "code",
   "execution_count": 41,
   "id": "8de0d23c",
   "metadata": {},
   "outputs": [
    {
     "name": "stdout",
     "output_type": "stream",
     "text": [
      "birch\n",
      "Code ran in 0.1237 seconds\n"
     ]
    }
   ],
   "source": [
    "try:\n",
    "    start = time.perf_counter()\n",
    "    res = runBIRCH(hashList,nlable)\n",
    "    end = round(time.perf_counter() - start, 4)\n",
    "\n",
    "    dict = getResult(\"tlsh\", \"birch\", labelList, res.labels_)\n",
    "    df = pd.concat((df, pd.DataFrame([dict])), ignore_index=True)\n",
    "    print(dict.get('Cluster'))\n",
    "    print(\"Code ran in \" + str(end) + \" seconds\")\n",
    "except Exception as e:\n",
    "    print(\"BIRCH didn't work.\")\n",
    "    print(e)"
   ]
  },
  {
   "cell_type": "code",
   "execution_count": 36,
   "id": "2623d37c",
   "metadata": {},
   "outputs": [],
   "source": [
    "#res.labels_"
   ]
  },
  {
   "cell_type": "markdown",
   "id": "74ba1757",
   "metadata": {},
   "source": [
    "# Output"
   ]
  },
  {
   "cell_type": "code",
   "execution_count": 37,
   "id": "11f06ec5",
   "metadata": {},
   "outputs": [],
   "source": [
    "outfile = path + \"/output/\" + filename + \"_Tlsh_result.csv\"\n",
    "df.to_csv(outfile, index=False)"
   ]
  },
  {
   "cell_type": "code",
   "execution_count": 38,
   "id": "d835a13f",
   "metadata": {},
   "outputs": [
    {
     "name": "stdout",
     "output_type": "stream",
     "text": [
      "All code ran in 324.4388 seconds\n"
     ]
    }
   ],
   "source": [
    "toc = round(time.perf_counter() - tic, 4)\n",
    "print(\"All code ran in \" + str(toc) + \" seconds\")"
   ]
  },
  {
   "cell_type": "code",
   "execution_count": 39,
   "id": "26b267e8",
   "metadata": {},
   "outputs": [
    {
     "data": {
      "text/html": [
       "<div>\n",
       "<style scoped>\n",
       "    .dataframe tbody tr th:only-of-type {\n",
       "        vertical-align: middle;\n",
       "    }\n",
       "\n",
       "    .dataframe tbody tr th {\n",
       "        vertical-align: top;\n",
       "    }\n",
       "\n",
       "    .dataframe thead th {\n",
       "        text-align: right;\n",
       "    }\n",
       "</style>\n",
       "<table border=\"1\" class=\"dataframe\">\n",
       "  <thead>\n",
       "    <tr style=\"text-align: right;\">\n",
       "      <th></th>\n",
       "      <th>File</th>\n",
       "      <th>nSample</th>\n",
       "      <th>Hash</th>\n",
       "      <th>Cluster</th>\n",
       "      <th>Has_n/a</th>\n",
       "      <th>nLabel</th>\n",
       "      <th>nCluster</th>\n",
       "      <th>Time(s)</th>\n",
       "      <th>Homo.</th>\n",
       "      <th>Sil.</th>\n",
       "      <th>Cal.</th>\n",
       "      <th>Dav.</th>\n",
       "    </tr>\n",
       "  </thead>\n",
       "  <tbody>\n",
       "    <tr>\n",
       "      <th>0</th>\n",
       "      <td>mb_1K</td>\n",
       "      <td>1000</td>\n",
       "      <td>tlsh</td>\n",
       "      <td>hac</td>\n",
       "      <td>True</td>\n",
       "      <td>56</td>\n",
       "      <td>55</td>\n",
       "      <td>0.7462</td>\n",
       "      <td>0.4868</td>\n",
       "      <td>-0.6170</td>\n",
       "      <td>13.4908</td>\n",
       "      <td>172.4432</td>\n",
       "    </tr>\n",
       "    <tr>\n",
       "      <th>1</th>\n",
       "      <td>mb_1K</td>\n",
       "      <td>1000</td>\n",
       "      <td>tlsh</td>\n",
       "      <td>hac-t</td>\n",
       "      <td>True</td>\n",
       "      <td>56</td>\n",
       "      <td>85</td>\n",
       "      <td>0.3445</td>\n",
       "      <td>0.3453</td>\n",
       "      <td>-0.7216</td>\n",
       "      <td>7.1279</td>\n",
       "      <td>67.8209</td>\n",
       "    </tr>\n",
       "    <tr>\n",
       "      <th>2</th>\n",
       "      <td>mb_1K</td>\n",
       "      <td>1000</td>\n",
       "      <td>tlsh</td>\n",
       "      <td>dbscan</td>\n",
       "      <td>True</td>\n",
       "      <td>56</td>\n",
       "      <td>71</td>\n",
       "      <td>2.2475</td>\n",
       "      <td>0.3336</td>\n",
       "      <td>-0.7254</td>\n",
       "      <td>8.2254</td>\n",
       "      <td>22.0264</td>\n",
       "    </tr>\n",
       "    <tr>\n",
       "      <th>3</th>\n",
       "      <td>mb_1K</td>\n",
       "      <td>1000</td>\n",
       "      <td>tlsh</td>\n",
       "      <td>kmeans</td>\n",
       "      <td>True</td>\n",
       "      <td>56</td>\n",
       "      <td>55</td>\n",
       "      <td>0.5338</td>\n",
       "      <td>0.4641</td>\n",
       "      <td>-0.6967</td>\n",
       "      <td>9.9843</td>\n",
       "      <td>178.4013</td>\n",
       "    </tr>\n",
       "    <tr>\n",
       "      <th>4</th>\n",
       "      <td>mb_1K</td>\n",
       "      <td>1000</td>\n",
       "      <td>tlsh</td>\n",
       "      <td>ms</td>\n",
       "      <td>True</td>\n",
       "      <td>56</td>\n",
       "      <td>165</td>\n",
       "      <td>1.5852</td>\n",
       "      <td>0.6466</td>\n",
       "      <td>-0.6811</td>\n",
       "      <td>4.4257</td>\n",
       "      <td>139.9304</td>\n",
       "    </tr>\n",
       "    <tr>\n",
       "      <th>5</th>\n",
       "      <td>mb_1K</td>\n",
       "      <td>1000</td>\n",
       "      <td>tlsh</td>\n",
       "      <td>sp</td>\n",
       "      <td>True</td>\n",
       "      <td>56</td>\n",
       "      <td>165</td>\n",
       "      <td>1.5126</td>\n",
       "      <td>0.6466</td>\n",
       "      <td>-0.6811</td>\n",
       "      <td>4.4257</td>\n",
       "      <td>139.9304</td>\n",
       "    </tr>\n",
       "    <tr>\n",
       "      <th>6</th>\n",
       "      <td>mb_1K</td>\n",
       "      <td>1000</td>\n",
       "      <td>tlsh</td>\n",
       "      <td>optics</td>\n",
       "      <td>True</td>\n",
       "      <td>56</td>\n",
       "      <td>200</td>\n",
       "      <td>6.7965</td>\n",
       "      <td>0.5552</td>\n",
       "      <td>-0.6593</td>\n",
       "      <td>3.7966</td>\n",
       "      <td>39.7486</td>\n",
       "    </tr>\n",
       "    <tr>\n",
       "      <th>7</th>\n",
       "      <td>mb_1K</td>\n",
       "      <td>1000</td>\n",
       "      <td>tlsh</td>\n",
       "      <td>birch</td>\n",
       "      <td>True</td>\n",
       "      <td>56</td>\n",
       "      <td>55</td>\n",
       "      <td>0.2693</td>\n",
       "      <td>0.4522</td>\n",
       "      <td>-0.7003</td>\n",
       "      <td>8.2830</td>\n",
       "      <td>176.4060</td>\n",
       "    </tr>\n",
       "    <tr>\n",
       "      <th>8</th>\n",
       "      <td>mb_1K</td>\n",
       "      <td>1000</td>\n",
       "      <td>tlsh</td>\n",
       "      <td>birch</td>\n",
       "      <td>True</td>\n",
       "      <td>56</td>\n",
       "      <td>55</td>\n",
       "      <td>0.1569</td>\n",
       "      <td>0.4522</td>\n",
       "      <td>-0.7003</td>\n",
       "      <td>8.2830</td>\n",
       "      <td>176.4060</td>\n",
       "    </tr>\n",
       "    <tr>\n",
       "      <th>9</th>\n",
       "      <td>mb_1K</td>\n",
       "      <td>1000</td>\n",
       "      <td>tlsh</td>\n",
       "      <td>birch</td>\n",
       "      <td>True</td>\n",
       "      <td>56</td>\n",
       "      <td>55</td>\n",
       "      <td>0.2208</td>\n",
       "      <td>0.4522</td>\n",
       "      <td>-0.7003</td>\n",
       "      <td>8.2830</td>\n",
       "      <td>176.4060</td>\n",
       "    </tr>\n",
       "    <tr>\n",
       "      <th>10</th>\n",
       "      <td>mb_1K</td>\n",
       "      <td>1000</td>\n",
       "      <td>tlsh</td>\n",
       "      <td>birch</td>\n",
       "      <td>True</td>\n",
       "      <td>56</td>\n",
       "      <td>55</td>\n",
       "      <td>0.2230</td>\n",
       "      <td>0.4522</td>\n",
       "      <td>-0.7003</td>\n",
       "      <td>8.2830</td>\n",
       "      <td>176.4060</td>\n",
       "    </tr>\n",
       "    <tr>\n",
       "      <th>11</th>\n",
       "      <td>mb_1K</td>\n",
       "      <td>1000</td>\n",
       "      <td>tlsh</td>\n",
       "      <td>optics</td>\n",
       "      <td>True</td>\n",
       "      <td>56</td>\n",
       "      <td>200</td>\n",
       "      <td>6.8752</td>\n",
       "      <td>0.5552</td>\n",
       "      <td>-0.6593</td>\n",
       "      <td>3.7966</td>\n",
       "      <td>39.7486</td>\n",
       "    </tr>\n",
       "    <tr>\n",
       "      <th>12</th>\n",
       "      <td>mb_1K</td>\n",
       "      <td>1000</td>\n",
       "      <td>tlsh</td>\n",
       "      <td>birch</td>\n",
       "      <td>True</td>\n",
       "      <td>56</td>\n",
       "      <td>55</td>\n",
       "      <td>0.2382</td>\n",
       "      <td>0.4522</td>\n",
       "      <td>-0.7003</td>\n",
       "      <td>8.2830</td>\n",
       "      <td>176.4060</td>\n",
       "    </tr>\n",
       "    <tr>\n",
       "      <th>13</th>\n",
       "      <td>mb_1K</td>\n",
       "      <td>1000</td>\n",
       "      <td>tlsh</td>\n",
       "      <td>birch</td>\n",
       "      <td>True</td>\n",
       "      <td>56</td>\n",
       "      <td>55</td>\n",
       "      <td>0.1851</td>\n",
       "      <td>0.4522</td>\n",
       "      <td>-0.7003</td>\n",
       "      <td>8.2830</td>\n",
       "      <td>176.4060</td>\n",
       "    </tr>\n",
       "    <tr>\n",
       "      <th>14</th>\n",
       "      <td>mb_1K</td>\n",
       "      <td>1000</td>\n",
       "      <td>tlsh</td>\n",
       "      <td>birch</td>\n",
       "      <td>True</td>\n",
       "      <td>56</td>\n",
       "      <td>55</td>\n",
       "      <td>0.1933</td>\n",
       "      <td>0.4522</td>\n",
       "      <td>-0.7003</td>\n",
       "      <td>8.2830</td>\n",
       "      <td>176.4060</td>\n",
       "    </tr>\n",
       "  </tbody>\n",
       "</table>\n",
       "</div>"
      ],
      "text/plain": [
       "     File  nSample  Hash Cluster  Has_n/a  nLabel  nCluster  Time(s)   Homo.  \\\n",
       "0   mb_1K     1000  tlsh     hac     True      56        55   0.7462  0.4868   \n",
       "1   mb_1K     1000  tlsh   hac-t     True      56        85   0.3445  0.3453   \n",
       "2   mb_1K     1000  tlsh  dbscan     True      56        71   2.2475  0.3336   \n",
       "3   mb_1K     1000  tlsh  kmeans     True      56        55   0.5338  0.4641   \n",
       "4   mb_1K     1000  tlsh      ms     True      56       165   1.5852  0.6466   \n",
       "5   mb_1K     1000  tlsh      sp     True      56       165   1.5126  0.6466   \n",
       "6   mb_1K     1000  tlsh  optics     True      56       200   6.7965  0.5552   \n",
       "7   mb_1K     1000  tlsh   birch     True      56        55   0.2693  0.4522   \n",
       "8   mb_1K     1000  tlsh   birch     True      56        55   0.1569  0.4522   \n",
       "9   mb_1K     1000  tlsh   birch     True      56        55   0.2208  0.4522   \n",
       "10  mb_1K     1000  tlsh   birch     True      56        55   0.2230  0.4522   \n",
       "11  mb_1K     1000  tlsh  optics     True      56       200   6.8752  0.5552   \n",
       "12  mb_1K     1000  tlsh   birch     True      56        55   0.2382  0.4522   \n",
       "13  mb_1K     1000  tlsh   birch     True      56        55   0.1851  0.4522   \n",
       "14  mb_1K     1000  tlsh   birch     True      56        55   0.1933  0.4522   \n",
       "\n",
       "      Sil.     Cal.      Dav.  \n",
       "0  -0.6170  13.4908  172.4432  \n",
       "1  -0.7216   7.1279   67.8209  \n",
       "2  -0.7254   8.2254   22.0264  \n",
       "3  -0.6967   9.9843  178.4013  \n",
       "4  -0.6811   4.4257  139.9304  \n",
       "5  -0.6811   4.4257  139.9304  \n",
       "6  -0.6593   3.7966   39.7486  \n",
       "7  -0.7003   8.2830  176.4060  \n",
       "8  -0.7003   8.2830  176.4060  \n",
       "9  -0.7003   8.2830  176.4060  \n",
       "10 -0.7003   8.2830  176.4060  \n",
       "11 -0.6593   3.7966   39.7486  \n",
       "12 -0.7003   8.2830  176.4060  \n",
       "13 -0.7003   8.2830  176.4060  \n",
       "14 -0.7003   8.2830  176.4060  "
      ]
     },
     "execution_count": 39,
     "metadata": {},
     "output_type": "execute_result"
    }
   ],
   "source": [
    "df"
   ]
  },
  {
   "cell_type": "code",
   "execution_count": null,
   "id": "c15a4c93",
   "metadata": {},
   "outputs": [],
   "source": []
  }
 ],
 "metadata": {
  "kernelspec": {
   "display_name": "Python 3 (ipykernel)",
   "language": "python",
   "name": "python3"
  },
  "language_info": {
   "codemirror_mode": {
    "name": "ipython",
    "version": 3
   },
   "file_extension": ".py",
   "mimetype": "text/x-python",
   "name": "python",
   "nbconvert_exporter": "python",
   "pygments_lexer": "ipython3",
   "version": "3.9.11"
  }
 },
 "nbformat": 4,
 "nbformat_minor": 5
}
