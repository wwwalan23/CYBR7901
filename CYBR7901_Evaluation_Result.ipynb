{
 "cells": [
  {
   "cell_type": "markdown",
   "id": "b6c9fa24",
   "metadata": {},
   "source": [
    "# Evaluation Result"
   ]
  },
  {
   "cell_type": "code",
   "execution_count": 1,
   "id": "a67543be",
   "metadata": {},
   "outputs": [],
   "source": [
    "from sklearn import metrics\n",
    "from pylib.tlsh_lib import *\n",
    "import numpy as np\n",
    "import pandas as pd\n",
    "import time\n",
    "tic = time.perf_counter() # experiment time counter "
   ]
  },
  {
   "cell_type": "code",
   "execution_count": 2,
   "id": "a924d36b",
   "metadata": {},
   "outputs": [],
   "source": [
    "#Remove NaN function\n",
    "nan = False\n",
    "def containNan(labelList):\n",
    "    for lable in labelList:\n",
    "        if lable == 'n/a':\n",
    "            nan = True\n",
    "            return nan\n",
    "        \n",
    "def removeNan(hashlist, labelList):\n",
    "    count = -1\n",
    "    newhashlist = []\n",
    "    newlabelList = []\n",
    "    \n",
    "    for lable in labelList:\n",
    "        count += 1\n",
    "        if lable != 'n/a':\n",
    "            newhashlist.append(hashlist[count])\n",
    "            newlabelList.append(labelList[count])\n",
    "    return newhashlist, newlabelList"
   ]
  },
  {
   "cell_type": "code",
   "execution_count": 3,
   "id": "89ccbaa4",
   "metadata": {},
   "outputs": [
    {
     "name": "stdout",
     "output_type": "stream",
     "text": [
      "Number of samples is 1000\n",
      "Number of Unique Lable is 56\n",
      "['12288:TcinWHCM2K4C2fut2I2U9WLDQ9RnX/lmSG02h8W62NtYy:TR3CBtNTpWNT6y', '12288:3b1f+WVBULxM6IdO6r1uH38W9D+4ncY2BdcvwGqIg3/FTj32c4zWKO:rB+s8eOOI38z4cXSwKg3p7Vx', '12288:lH1rtcf9uFvwrp+8uGqARQi1+3lwbcSpsPP7r9r/+ppppppppppppppppppppppJ:VzF8oQXSi1Oevw1q', '12288:0jdRStsZZzk8/dRStsZZzkldRStsZZzkbgoPYj3YnSn93kEcnVAcx6lQr1Mjg9W2:NCdktCdkiCdkbkjInJmcIlQGjZCRClk', '12288:sULkUtcX1J7ygKXcNxa64qnYDNWXpcJyQPRI8rv:sUL9tcFJ7ygAcUWsyiRI87', '768:dLt2gJbT/5wQu2rNnFfIr8t7sJmn3P5DBlyF8yPyeJ8YH+Rs+FWYQw+6VzBTPv7r:L3JbTBwQuA5Fm86+dBlyFzyeJ8U+FWYj', '12288:dYWWHCM2K4CUY4lbFe5h5LtEjthcgbdQtAa+xaan:J3CUH9KLOTFtxa+', '12288:vjBID6xsmQECVwPvjY/P5vaDx9r4A7Pm6r0c8Ayfk4MwzqEj:a5nGahKx9lrVr0nAT10j', '12288:9ULkUtcX1J7ygKXcNxa64qnYDNWXpcJyQPRI8rA:9UL9tcFJ7ygAcUWsyiRI8s', '24576:G+oELLuVzvLM223WfM8oFJYEVOdsCDd3lF4iDWz3lbWaDTvT:hoEfkzDM2sL862tDd3AQWz1blPr']\n"
     ]
    }
   ],
   "source": [
    "datafile = \"dataDir2/mb_1K.csv\" #<----------Change this file size\n",
    "\n",
    "(path,file) = datafile.split(\"/\") #save file path\n",
    "(filename,filetype) = file.split(\".\") #save file type\n",
    "\n",
    "(tlist, [labelList, dateList, hashList]) = tlsh_csvfile(datafile) # return (tlist, [labelList, dateList, hashList])\n",
    "#(tlist, labelList) = tlsh_csvfile(datafile) \n",
    "\n",
    "#remove Nan Value\n",
    "#(tlist, labelList) = removeNan(tlist, labelList)\n",
    "\n",
    "print(\"Number of samples is \" + str(len(tlist)))\n",
    "print(\"Number of Unique Lable is \" + str(len(set(labelList))))\n",
    "print(hashList[0:10])\n",
    "nlable = len(set(labelList))\n",
    "nan = containNan(labelList)"
   ]
  },
  {
   "cell_type": "code",
   "execution_count": 4,
   "id": "1f08e0d1",
   "metadata": {},
   "outputs": [],
   "source": [
    "df = pd.DataFrame()\n",
    "\n",
    "def getResult(fh,c,labelList, clusterNumber):\n",
    "    d = {word: key for key, word in enumerate(set(labelList))}\n",
    "    labelList_id = [d[word] for word in labelList]\n",
    "    a = np.array(labelList_id).reshape(-1, 1)\n",
    "    \n",
    "    #decimal place\n",
    "    dp = 4\n",
    "    \n",
    "    homo = round(metrics.homogeneity_score(labelList_id, clusterNumber),dp)\n",
    "    silh = round(metrics.silhouette_score(a, clusterNumber, metric='euclidean'),dp)\n",
    "    cali = round(metrics.calinski_harabasz_score(a, clusterNumber),dp)\n",
    "    dav = round(metrics.davies_bouldin_score(a, clusterNumber),dp)\n",
    "    \n",
    "    print(\"Homogeneity score is \" + str(homo))\n",
    "    print(\"Silhouette score is \" + str(silh))\n",
    "    print(\"Calinski harabasz score is \" + str(cali))\n",
    "    print(\"Davies bouldin score is \" + str(dav))\n",
    "    \n",
    "    result = {\"File\": str(filename),\n",
    "              \"nSample\": int(len(tlist)),\n",
    "              \"Hash\": str(fh),\n",
    "              \"Cluster\": str(c),\n",
    "              \"Has_n/a\": bool(nan),\n",
    "              \"nLabel\": int(nlable),\n",
    "              \"nCluster\": int(max(clusterNumber)),\n",
    "              \"Time(s)\": float(end),\n",
    "              \"Homo.\":float(homo),\n",
    "              \"Sil.\":float(silh),\n",
    "              \"Cal.\":float(cali),\n",
    "              \"Dav.\":float(dav)}\n",
    "    return result"
   ]
  },
  {
   "cell_type": "markdown",
   "id": "cd3f83a4",
   "metadata": {},
   "source": [
    "# TLSH Agglomerative Clustering"
   ]
  },
  {
   "cell_type": "code",
   "execution_count": 5,
   "id": "a5a6a8ce",
   "metadata": {},
   "outputs": [
    {
     "name": "stdout",
     "output_type": "stream",
     "text": [
      "Code ran in 0.6222 seconds\n",
      "Homogeneity score is 0.4868\n",
      "Silhouette score is -0.5495\n",
      "Calinski harabasz score is 10.0111\n",
      "Davies bouldin score is 84.7388\n"
     ]
    },
    {
     "data": {
      "text/html": [
       "<div>\n",
       "<style scoped>\n",
       "    .dataframe tbody tr th:only-of-type {\n",
       "        vertical-align: middle;\n",
       "    }\n",
       "\n",
       "    .dataframe tbody tr th {\n",
       "        vertical-align: top;\n",
       "    }\n",
       "\n",
       "    .dataframe thead th {\n",
       "        text-align: right;\n",
       "    }\n",
       "</style>\n",
       "<table border=\"1\" class=\"dataframe\">\n",
       "  <thead>\n",
       "    <tr style=\"text-align: right;\">\n",
       "      <th></th>\n",
       "      <th>File</th>\n",
       "      <th>nSample</th>\n",
       "      <th>Hash</th>\n",
       "      <th>Cluster</th>\n",
       "      <th>Has_n/a</th>\n",
       "      <th>nLabel</th>\n",
       "      <th>nCluster</th>\n",
       "      <th>Time(s)</th>\n",
       "      <th>Homo.</th>\n",
       "      <th>Sil.</th>\n",
       "      <th>Cal.</th>\n",
       "      <th>Dav.</th>\n",
       "    </tr>\n",
       "  </thead>\n",
       "  <tbody>\n",
       "    <tr>\n",
       "      <th>0</th>\n",
       "      <td>mb_1K</td>\n",
       "      <td>1000.0</td>\n",
       "      <td>tlsh</td>\n",
       "      <td>hac</td>\n",
       "      <td>1.0</td>\n",
       "      <td>56.0</td>\n",
       "      <td>55.0</td>\n",
       "      <td>0.6222</td>\n",
       "      <td>0.4868</td>\n",
       "      <td>-0.5495</td>\n",
       "      <td>10.0111</td>\n",
       "      <td>84.7388</td>\n",
       "    </tr>\n",
       "  </tbody>\n",
       "</table>\n",
       "</div>"
      ],
      "text/plain": [
       "    File  nSample  Hash Cluster  Has_n/a  nLabel  nCluster  Time(s)   Homo.  \\\n",
       "0  mb_1K   1000.0  tlsh     hac      1.0    56.0      55.0   0.6222  0.4868   \n",
       "\n",
       "     Sil.     Cal.     Dav.  \n",
       "0 -0.5495  10.0111  84.7388  "
      ]
     },
     "execution_count": 5,
     "metadata": {},
     "output_type": "execute_result"
    }
   ],
   "source": [
    "start = time.perf_counter()\n",
    "\n",
    "clusterNumber = assignCluster(tlist, nlable)\n",
    "\n",
    "end = round(time.perf_counter() - start,4)\n",
    "print(\"Code ran in \" + str(end) + \" seconds\")\n",
    "\n",
    "#outfile = path + \"/output/\" + filename + \"_hac_out.txt\"\n",
    "#outputClusters(outfile, tlist, clusterNumber, labelList, quiet=True)\n",
    "\n",
    "dict = getResult(\"tlsh\",\"hac\",labelList,clusterNumber)\n",
    "df = df.append(dict, ignore_index = True)\n",
    "df"
   ]
  },
  {
   "cell_type": "markdown",
   "id": "8ee8c737",
   "metadata": {},
   "source": [
    "# TLSH HAC-T"
   ]
  },
  {
   "cell_type": "code",
   "execution_count": 6,
   "id": "b2199235",
   "metadata": {},
   "outputs": [
    {
     "name": "stdout",
     "output_type": "stream",
     "text": [
      "Code ran in 0.2077 seconds\n",
      "Number of cluster is 85\n",
      "Number of Distance Calculated is 227245\n",
      "Homogeneity score is 0.3453\n",
      "Silhouette score is -0.7152\n",
      "Calinski harabasz score is 3.6595\n",
      "Davies bouldin score is 55.2025\n"
     ]
    },
    {
     "data": {
      "text/html": [
       "<div>\n",
       "<style scoped>\n",
       "    .dataframe tbody tr th:only-of-type {\n",
       "        vertical-align: middle;\n",
       "    }\n",
       "\n",
       "    .dataframe tbody tr th {\n",
       "        vertical-align: top;\n",
       "    }\n",
       "\n",
       "    .dataframe thead th {\n",
       "        text-align: right;\n",
       "    }\n",
       "</style>\n",
       "<table border=\"1\" class=\"dataframe\">\n",
       "  <thead>\n",
       "    <tr style=\"text-align: right;\">\n",
       "      <th></th>\n",
       "      <th>File</th>\n",
       "      <th>nSample</th>\n",
       "      <th>Hash</th>\n",
       "      <th>Cluster</th>\n",
       "      <th>Has_n/a</th>\n",
       "      <th>nLabel</th>\n",
       "      <th>nCluster</th>\n",
       "      <th>Time(s)</th>\n",
       "      <th>Homo.</th>\n",
       "      <th>Sil.</th>\n",
       "      <th>Cal.</th>\n",
       "      <th>Dav.</th>\n",
       "    </tr>\n",
       "  </thead>\n",
       "  <tbody>\n",
       "    <tr>\n",
       "      <th>0</th>\n",
       "      <td>mb_1K</td>\n",
       "      <td>1000.0</td>\n",
       "      <td>tlsh</td>\n",
       "      <td>hac</td>\n",
       "      <td>1.0</td>\n",
       "      <td>56.0</td>\n",
       "      <td>55.0</td>\n",
       "      <td>0.6222</td>\n",
       "      <td>0.4868</td>\n",
       "      <td>-0.5495</td>\n",
       "      <td>10.0111</td>\n",
       "      <td>84.7388</td>\n",
       "    </tr>\n",
       "    <tr>\n",
       "      <th>1</th>\n",
       "      <td>mb_1K</td>\n",
       "      <td>1000.0</td>\n",
       "      <td>tlsh</td>\n",
       "      <td>hac-t</td>\n",
       "      <td>1.0</td>\n",
       "      <td>56.0</td>\n",
       "      <td>85.0</td>\n",
       "      <td>0.2077</td>\n",
       "      <td>0.3453</td>\n",
       "      <td>-0.7152</td>\n",
       "      <td>3.6595</td>\n",
       "      <td>55.2025</td>\n",
       "    </tr>\n",
       "  </tbody>\n",
       "</table>\n",
       "</div>"
      ],
      "text/plain": [
       "    File  nSample  Hash Cluster  Has_n/a  nLabel  nCluster  Time(s)   Homo.  \\\n",
       "0  mb_1K   1000.0  tlsh     hac      1.0    56.0      55.0   0.6222  0.4868   \n",
       "1  mb_1K   1000.0  tlsh   hac-t      1.0    56.0      85.0   0.2077  0.3453   \n",
       "\n",
       "     Sil.     Cal.     Dav.  \n",
       "0 -0.5495  10.0111  84.7388  \n",
       "1 -0.7152   3.6595  55.2025  "
      ]
     },
     "execution_count": 6,
     "metadata": {},
     "output_type": "execute_result"
    }
   ],
   "source": [
    "from pylib.hac_lib  import *\n",
    "\n",
    "hac_resetDistCalc()\n",
    "start = time.perf_counter()\n",
    "\n",
    "res = HAC_T(datafile, CDist=30, step3=0, outfname=\"tmp.txt\", cenfname=\"tmp2.txt\") \n",
    "\n",
    "end = round(time.perf_counter() - start,4)\n",
    "print(\"Code ran in \" + str(end) + \" seconds\")\n",
    "\n",
    "#outfile = path + \"/output/\" + filename + \"_hac-t_out.txt\"\n",
    "#outputClusters(outfile, tlist, res, labelList, quiet=True)\n",
    "\n",
    "nclusters = max(res)\n",
    "nDistCalc = hac_lookupDistCalc()\n",
    "\n",
    "print(\"Number of cluster is \" + str(nclusters))\n",
    "print(\"Number of Distance Calculated is \" + str(nDistCalc))\n",
    "\n",
    "dict = getResult(\"tlsh\",\"hac-t\",labelList,res)\n",
    "df = df.append(dict, ignore_index = True)\n",
    "df"
   ]
  },
  {
   "cell_type": "markdown",
   "id": "cbada2be",
   "metadata": {},
   "source": [
    "# TLSH DBSCAN"
   ]
  },
  {
   "cell_type": "code",
   "execution_count": 7,
   "id": "72f27854",
   "metadata": {},
   "outputs": [
    {
     "name": "stdout",
     "output_type": "stream",
     "text": [
      "Code ran in 0.975 seconds\n",
      "nclusters is 71\n",
      "nDistCalc is 961443\n",
      "Homogeneity score is 0.3336\n",
      "Silhouette score is -0.7217\n",
      "Calinski harabasz score is 4.3249\n",
      "Davies bouldin score is 39.4504\n"
     ]
    },
    {
     "data": {
      "text/html": [
       "<div>\n",
       "<style scoped>\n",
       "    .dataframe tbody tr th:only-of-type {\n",
       "        vertical-align: middle;\n",
       "    }\n",
       "\n",
       "    .dataframe tbody tr th {\n",
       "        vertical-align: top;\n",
       "    }\n",
       "\n",
       "    .dataframe thead th {\n",
       "        text-align: right;\n",
       "    }\n",
       "</style>\n",
       "<table border=\"1\" class=\"dataframe\">\n",
       "  <thead>\n",
       "    <tr style=\"text-align: right;\">\n",
       "      <th></th>\n",
       "      <th>File</th>\n",
       "      <th>nSample</th>\n",
       "      <th>Hash</th>\n",
       "      <th>Cluster</th>\n",
       "      <th>Has_n/a</th>\n",
       "      <th>nLabel</th>\n",
       "      <th>nCluster</th>\n",
       "      <th>Time(s)</th>\n",
       "      <th>Homo.</th>\n",
       "      <th>Sil.</th>\n",
       "      <th>Cal.</th>\n",
       "      <th>Dav.</th>\n",
       "    </tr>\n",
       "  </thead>\n",
       "  <tbody>\n",
       "    <tr>\n",
       "      <th>0</th>\n",
       "      <td>mb_1K</td>\n",
       "      <td>1000.0</td>\n",
       "      <td>tlsh</td>\n",
       "      <td>hac</td>\n",
       "      <td>1.0</td>\n",
       "      <td>56.0</td>\n",
       "      <td>55.0</td>\n",
       "      <td>0.6222</td>\n",
       "      <td>0.4868</td>\n",
       "      <td>-0.5495</td>\n",
       "      <td>10.0111</td>\n",
       "      <td>84.7388</td>\n",
       "    </tr>\n",
       "    <tr>\n",
       "      <th>1</th>\n",
       "      <td>mb_1K</td>\n",
       "      <td>1000.0</td>\n",
       "      <td>tlsh</td>\n",
       "      <td>hac-t</td>\n",
       "      <td>1.0</td>\n",
       "      <td>56.0</td>\n",
       "      <td>85.0</td>\n",
       "      <td>0.2077</td>\n",
       "      <td>0.3453</td>\n",
       "      <td>-0.7152</td>\n",
       "      <td>3.6595</td>\n",
       "      <td>55.2025</td>\n",
       "    </tr>\n",
       "    <tr>\n",
       "      <th>2</th>\n",
       "      <td>mb_1K</td>\n",
       "      <td>1000.0</td>\n",
       "      <td>tlsh</td>\n",
       "      <td>dbscan</td>\n",
       "      <td>1.0</td>\n",
       "      <td>56.0</td>\n",
       "      <td>71.0</td>\n",
       "      <td>0.9750</td>\n",
       "      <td>0.3336</td>\n",
       "      <td>-0.7217</td>\n",
       "      <td>4.3249</td>\n",
       "      <td>39.4504</td>\n",
       "    </tr>\n",
       "  </tbody>\n",
       "</table>\n",
       "</div>"
      ],
      "text/plain": [
       "    File  nSample  Hash Cluster  Has_n/a  nLabel  nCluster  Time(s)   Homo.  \\\n",
       "0  mb_1K   1000.0  tlsh     hac      1.0    56.0      55.0   0.6222  0.4868   \n",
       "1  mb_1K   1000.0  tlsh   hac-t      1.0    56.0      85.0   0.2077  0.3453   \n",
       "2  mb_1K   1000.0  tlsh  dbscan      1.0    56.0      71.0   0.9750  0.3336   \n",
       "\n",
       "     Sil.     Cal.     Dav.  \n",
       "0 -0.5495  10.0111  84.7388  \n",
       "1 -0.7152   3.6595  55.2025  \n",
       "2 -0.7217   4.3249  39.4504  "
      ]
     },
     "execution_count": 7,
     "metadata": {},
     "output_type": "execute_result"
    }
   ],
   "source": [
    "resetDistCalc()\n",
    "start = time.perf_counter()\n",
    "\n",
    "res = runDBSCAN(tlist, eps=30, min_samples=2, algorithm='auto')\n",
    "\n",
    "end = round(time.perf_counter() - start,4)\n",
    "print(\"Code ran in \" + str(end) + \" seconds\")\n",
    "\n",
    "#outfile = path + \"/output/\" + filename + \"_dbscan_out.txt\"\n",
    "#outputClusters(outfile, tlist, res.labels_, labelList, quiet=True)\n",
    "\n",
    "nclusters = max(res.labels_)\n",
    "nDistCalc = lookupDistCalc()\n",
    "\n",
    "print(\"nclusters is \" + str(nclusters))\n",
    "print(\"nDistCalc is \" + str(nDistCalc))\n",
    "\n",
    "dict = getResult(\"tlsh\",\"dbscan\",labelList,res.labels_)\n",
    "df = df.append(dict, ignore_index = True)\n",
    "df"
   ]
  },
  {
   "cell_type": "markdown",
   "id": "eb3645a4",
   "metadata": {},
   "source": [
    "# TLSH KMeans"
   ]
  },
  {
   "cell_type": "code",
   "execution_count": 8,
   "id": "66fafc57",
   "metadata": {},
   "outputs": [],
   "source": [
    "from sklearn.cluster import KMeans\n",
    "\n",
    "def runKMean(tlist, n):\n",
    "    tdata = tlist2cdata(tlist)\n",
    "    res = KMeans(n_clusters=n, random_state=0).fit(tdata)\n",
    "    return(res)"
   ]
  },
  {
   "cell_type": "code",
   "execution_count": 9,
   "id": "e7fa3889",
   "metadata": {},
   "outputs": [
    {
     "name": "stdout",
     "output_type": "stream",
     "text": [
      "Code ran in 0.1795 seconds\n",
      "Homogeneity score is 0.4641\n",
      "Silhouette score is -0.6043\n",
      "Calinski harabasz score is 7.1159\n",
      "Davies bouldin score is 371.1056\n"
     ]
    },
    {
     "data": {
      "text/html": [
       "<div>\n",
       "<style scoped>\n",
       "    .dataframe tbody tr th:only-of-type {\n",
       "        vertical-align: middle;\n",
       "    }\n",
       "\n",
       "    .dataframe tbody tr th {\n",
       "        vertical-align: top;\n",
       "    }\n",
       "\n",
       "    .dataframe thead th {\n",
       "        text-align: right;\n",
       "    }\n",
       "</style>\n",
       "<table border=\"1\" class=\"dataframe\">\n",
       "  <thead>\n",
       "    <tr style=\"text-align: right;\">\n",
       "      <th></th>\n",
       "      <th>File</th>\n",
       "      <th>nSample</th>\n",
       "      <th>Hash</th>\n",
       "      <th>Cluster</th>\n",
       "      <th>Has_n/a</th>\n",
       "      <th>nLabel</th>\n",
       "      <th>nCluster</th>\n",
       "      <th>Time(s)</th>\n",
       "      <th>Homo.</th>\n",
       "      <th>Sil.</th>\n",
       "      <th>Cal.</th>\n",
       "      <th>Dav.</th>\n",
       "    </tr>\n",
       "  </thead>\n",
       "  <tbody>\n",
       "    <tr>\n",
       "      <th>0</th>\n",
       "      <td>mb_1K</td>\n",
       "      <td>1000.0</td>\n",
       "      <td>tlsh</td>\n",
       "      <td>hac</td>\n",
       "      <td>1.0</td>\n",
       "      <td>56.0</td>\n",
       "      <td>55.0</td>\n",
       "      <td>0.6222</td>\n",
       "      <td>0.4868</td>\n",
       "      <td>-0.5495</td>\n",
       "      <td>10.0111</td>\n",
       "      <td>84.7388</td>\n",
       "    </tr>\n",
       "    <tr>\n",
       "      <th>1</th>\n",
       "      <td>mb_1K</td>\n",
       "      <td>1000.0</td>\n",
       "      <td>tlsh</td>\n",
       "      <td>hac-t</td>\n",
       "      <td>1.0</td>\n",
       "      <td>56.0</td>\n",
       "      <td>85.0</td>\n",
       "      <td>0.2077</td>\n",
       "      <td>0.3453</td>\n",
       "      <td>-0.7152</td>\n",
       "      <td>3.6595</td>\n",
       "      <td>55.2025</td>\n",
       "    </tr>\n",
       "    <tr>\n",
       "      <th>2</th>\n",
       "      <td>mb_1K</td>\n",
       "      <td>1000.0</td>\n",
       "      <td>tlsh</td>\n",
       "      <td>dbscan</td>\n",
       "      <td>1.0</td>\n",
       "      <td>56.0</td>\n",
       "      <td>71.0</td>\n",
       "      <td>0.9750</td>\n",
       "      <td>0.3336</td>\n",
       "      <td>-0.7217</td>\n",
       "      <td>4.3249</td>\n",
       "      <td>39.4504</td>\n",
       "    </tr>\n",
       "    <tr>\n",
       "      <th>3</th>\n",
       "      <td>mb_1K</td>\n",
       "      <td>1000.0</td>\n",
       "      <td>tlsh</td>\n",
       "      <td>kmeans</td>\n",
       "      <td>1.0</td>\n",
       "      <td>56.0</td>\n",
       "      <td>55.0</td>\n",
       "      <td>0.1795</td>\n",
       "      <td>0.4641</td>\n",
       "      <td>-0.6043</td>\n",
       "      <td>7.1159</td>\n",
       "      <td>371.1056</td>\n",
       "    </tr>\n",
       "  </tbody>\n",
       "</table>\n",
       "</div>"
      ],
      "text/plain": [
       "    File  nSample  Hash Cluster  Has_n/a  nLabel  nCluster  Time(s)   Homo.  \\\n",
       "0  mb_1K   1000.0  tlsh     hac      1.0    56.0      55.0   0.6222  0.4868   \n",
       "1  mb_1K   1000.0  tlsh   hac-t      1.0    56.0      85.0   0.2077  0.3453   \n",
       "2  mb_1K   1000.0  tlsh  dbscan      1.0    56.0      71.0   0.9750  0.3336   \n",
       "3  mb_1K   1000.0  tlsh  kmeans      1.0    56.0      55.0   0.1795  0.4641   \n",
       "\n",
       "     Sil.     Cal.      Dav.  \n",
       "0 -0.5495  10.0111   84.7388  \n",
       "1 -0.7152   3.6595   55.2025  \n",
       "2 -0.7217   4.3249   39.4504  \n",
       "3 -0.6043   7.1159  371.1056  "
      ]
     },
     "execution_count": 9,
     "metadata": {},
     "output_type": "execute_result"
    }
   ],
   "source": [
    "start = time.perf_counter()\n",
    "\n",
    "res = runKMean(tlist, nlable)\n",
    "\n",
    "end = round(time.perf_counter() - start,4)\n",
    "print(\"Code ran in \" + str(end) + \" seconds\")\n",
    "\n",
    "#outfile = path + \"/output/\" + filename + \"_kmean_out.txt\"\n",
    "#outputClusters(outfile, tlist, res.labels_, labelList)\n",
    "\n",
    "dict = getResult(\"tlsh\",\"kmeans\",labelList,res.labels_)\n",
    "df = df.append(dict, ignore_index = True)\n",
    "df"
   ]
  },
  {
   "cell_type": "code",
   "execution_count": 10,
   "id": "47f1111c",
   "metadata": {},
   "outputs": [
    {
     "data": {
      "text/plain": [
       "array([28, 28, 28, 28, 28, 28, 28, 28, 28, 28, 28, 28, 28, 28, 28, 28, 28,\n",
       "        4,  4,  4,  4,  4,  4,  4,  4,  4,  4,  4,  4,  4,  4,  4,  4,  4,\n",
       "        4,  4, 40, 40, 40, 40, 40, 40, 40, 40, 40, 40, 40, 40, 40, 40, 40,\n",
       "       40, 40, 40, 40, 40, 20, 20, 20, 20, 20, 20, 20, 20, 20, 20, 20, 20,\n",
       "       20, 20, 20, 20, 20, 20, 20, 20, 20, 34, 34, 34, 34, 34, 34, 34, 34,\n",
       "       34, 34, 34, 34, 34, 34, 34, 34, 34, 34, 34,  7,  7,  7,  7,  7,  7,\n",
       "        7,  7,  7,  7,  7,  7,  7,  7,  7,  7,  7, 48, 48, 48, 48, 48, 48,\n",
       "       48, 48, 48, 48, 48, 48, 48, 48, 48, 48, 25, 25, 25, 25, 25, 25, 25,\n",
       "       25, 25, 25, 25, 25, 25, 25, 25, 25, 25, 38, 38, 38, 38, 38, 38, 38,\n",
       "       38, 38, 38, 38, 38, 38, 38, 38, 38, 38, 14, 14, 14, 14, 14, 14, 14,\n",
       "       14, 14, 14, 14, 14, 14, 14, 14, 14, 14, 14, 29, 29, 29, 29, 29, 29,\n",
       "       29, 29, 29, 29, 29, 29, 29, 29, 29, 29, 29, 29, 29, 29,  1,  1,  1,\n",
       "        1,  1,  1,  1,  1,  1,  1,  1,  1,  1,  1,  1,  1,  1,  1,  1, 46,\n",
       "       46, 46, 46, 46, 46, 46, 46, 46, 46, 46, 46, 46, 46, 46, 46, 46, 30,\n",
       "       30, 30, 30, 30, 30, 30, 30, 30, 30, 30, 30, 30, 30, 30, 45, 45, 45,\n",
       "       45, 45, 45, 45, 45, 45, 45, 45, 45, 45, 45, 45, 45, 12, 12, 12, 12,\n",
       "       12, 12, 12, 12, 12, 12, 12, 12, 12, 12, 12, 12, 12, 12, 35, 35, 35,\n",
       "       35, 35, 35, 35, 35, 35, 35, 35, 35, 35, 35, 35, 35, 35, 35, 16, 16,\n",
       "       16, 16, 16, 16, 16, 16, 16, 16, 16, 16, 16, 16, 16, 16, 27, 27, 27,\n",
       "       27, 27, 27, 27, 27, 27, 27, 27, 27, 27, 27, 27, 27, 27, 52, 52, 52,\n",
       "       52, 52, 52, 52, 52, 52, 52, 52, 52, 52, 52, 52, 52, 52, 52,  6,  6,\n",
       "        6,  6,  6,  6,  6,  6,  6,  6,  6,  6,  6,  6,  6,  6,  6,  6,  6,\n",
       "        6, 22, 22, 22, 22, 22, 22, 22, 22, 22, 22, 22, 22, 22, 22, 22, 22,\n",
       "       22, 22, 22, 22, 41, 41, 41, 41, 41, 41, 41, 41, 41, 41, 41, 41, 41,\n",
       "       41, 41, 41, 41, 10, 10, 10, 10, 10, 10, 10, 10, 10, 10, 10, 10, 10,\n",
       "       10, 10, 10, 53, 53, 53, 53, 53, 53, 53, 53, 53, 53, 53, 53, 53, 53,\n",
       "       24, 24, 24, 24, 24, 24, 24, 24, 24, 24, 24, 24, 24, 24, 24, 24, 51,\n",
       "       51, 51, 51, 51, 51, 51, 51, 51, 51, 51, 51, 51, 51, 51, 51, 51, 51,\n",
       "        2,  2,  2,  2,  2,  2,  2,  2,  2,  2,  2,  2,  2,  2,  2,  2,  2,\n",
       "        2,  2,  2, 36, 36, 36, 36, 36, 36, 36, 36, 36, 36, 36, 36, 36, 36,\n",
       "       36, 36, 36, 36, 36, 36, 36, 18, 18, 18, 18, 18, 18, 18, 18, 18, 18,\n",
       "       18, 18, 18, 18, 18, 18, 18, 18, 18, 18, 18, 11, 11, 11, 11, 11, 11,\n",
       "       11, 11, 11, 11, 11, 11, 11, 11, 11, 11, 11, 11, 11, 11, 55, 55, 55,\n",
       "       55, 55, 55, 55, 55, 55, 55, 55, 55, 55, 55, 55, 55, 55, 19, 19, 19,\n",
       "       19, 19, 19, 19, 19, 19, 19, 19, 19, 19, 19, 19, 19, 19, 39, 39, 39,\n",
       "       39, 39, 39, 39, 39, 39, 39, 39, 39, 39, 39, 39, 39, 39, 39,  5,  5,\n",
       "        5,  5,  5,  5,  5,  5,  5,  5,  5,  5,  5,  5,  5,  5,  5,  5,  5,\n",
       "        5, 42, 42, 42, 42, 42, 42, 42, 42, 42, 42, 42, 42, 42, 42, 42, 42,\n",
       "       42, 42, 42, 21, 21, 21, 21, 21, 21, 21, 21, 21, 21, 21, 21, 21, 21,\n",
       "       21, 21, 21, 21, 21, 43, 43, 43, 43, 43, 43, 43, 43, 43, 43, 43, 43,\n",
       "       43, 43, 43, 43, 43, 43,  8,  8,  8,  8,  8,  8,  8,  8,  8,  8,  8,\n",
       "        8,  8,  8,  8,  8, 32, 32, 32, 32, 32, 32, 32, 32, 32, 32, 32, 32,\n",
       "       32, 32, 49, 49, 49, 49, 49, 49, 49, 49, 49, 49, 49, 49, 49, 49, 49,\n",
       "       17, 17, 17, 17, 17, 17, 17, 17, 17, 17, 17, 17, 17, 17, 17, 17, 33,\n",
       "       33, 33, 33, 33, 33, 33, 33, 33, 33, 33, 33, 33, 33, 33, 33, 33,  0,\n",
       "        0,  0,  0,  0,  0,  0,  0,  0,  0,  0,  0,  0,  0,  0,  0,  0, 50,\n",
       "       50, 50, 50, 50, 50, 50, 50, 50, 50, 50, 50, 50, 50, 50, 50, 23, 23,\n",
       "       23, 23, 23, 23, 23, 23, 23, 23, 23, 23, 23, 23, 23, 23, 23, 54, 54,\n",
       "       54, 54, 54, 54, 54, 54, 54, 54, 54, 54, 54, 54, 54, 54,  9,  9,  9,\n",
       "        9,  9,  9,  9,  9,  9,  9,  9,  9,  9,  9, 47, 47, 47, 47, 47, 47,\n",
       "       47, 47, 47, 47, 47, 47, 47, 47, 47, 47, 31, 31, 31, 31, 31, 31, 31,\n",
       "       31, 31, 31, 31, 31, 31, 31, 31, 31, 31, 31, 15, 15, 15, 15, 15, 15,\n",
       "       15, 15, 15, 15, 15, 15, 15, 15, 15, 15, 15, 15, 15, 15, 37, 37, 37,\n",
       "       37, 37, 37, 37, 37, 37, 37, 37, 37, 37, 37, 37, 37, 37, 37, 37,  3,\n",
       "        3,  3,  3,  3,  3,  3,  3,  3,  3,  3,  3,  3,  3,  3,  3,  3,  3,\n",
       "        3, 44, 44, 44, 44, 44, 44, 44, 44, 44, 44, 44, 44, 44, 44, 44, 44,\n",
       "       44, 44, 44, 44, 13, 13, 13, 13, 13, 13, 13, 13, 13, 13, 13, 13, 13,\n",
       "       13, 13, 13, 13, 13, 13, 13, 13, 26, 26, 26, 26, 26, 26, 26, 26, 26,\n",
       "       26, 26, 26, 26, 26, 26, 26, 26, 26, 26, 26, 26, 26, 26])"
      ]
     },
     "execution_count": 10,
     "metadata": {},
     "output_type": "execute_result"
    }
   ],
   "source": [
    "res.labels_"
   ]
  },
  {
   "cell_type": "markdown",
   "id": "acdd6a3a",
   "metadata": {},
   "source": [
    "### Output"
   ]
  },
  {
   "cell_type": "code",
   "execution_count": 11,
   "id": "7e2a64cc",
   "metadata": {},
   "outputs": [],
   "source": [
    "outfile = path + \"/output/\" + filename + \"_result.csv\"\n",
    "df.to_csv(outfile, index = False)"
   ]
  },
  {
   "cell_type": "code",
   "execution_count": 12,
   "id": "f5e543c9",
   "metadata": {},
   "outputs": [
    {
     "data": {
      "text/plain": [
       "2.3652"
      ]
     },
     "execution_count": 12,
     "metadata": {},
     "output_type": "execute_result"
    }
   ],
   "source": [
    "toc = round(time.perf_counter() - tic,4)\n",
    "toc"
   ]
  },
  {
   "cell_type": "markdown",
   "id": "7439c64d",
   "metadata": {},
   "source": [
    "# Affinity Propagation"
   ]
  },
  {
   "cell_type": "code",
   "execution_count": 13,
   "id": "15fa8718",
   "metadata": {},
   "outputs": [
    {
     "data": {
      "text/plain": [
       "'\\ndef runAP(tlist,n):\\n    tdata = tlist2cdata(tlist) \\n    #print(tlist)\\n    #print(tdata)\\n    res = AffinityPropagation(random_state=5).fit_predict(tdata) \\n    return(res)\\n'"
      ]
     },
     "execution_count": 13,
     "metadata": {},
     "output_type": "execute_result"
    }
   ],
   "source": [
    "from sklearn.cluster import AffinityPropagation\n",
    "\"\"\"\n",
    "def runAP(tlist,n):\n",
    "    tdata = tlist2cdata(tlist) \n",
    "    #print(tlist)\n",
    "    #print(tdata)\n",
    "    res = AffinityPropagation(random_state=5).fit_predict(tdata) \n",
    "    return(res)\n",
    "\"\"\""
   ]
  },
  {
   "cell_type": "code",
   "execution_count": 14,
   "id": "e916d6b7",
   "metadata": {},
   "outputs": [
    {
     "ename": "ValueError",
     "evalue": "Affinity must be 'precomputed' or 'euclidean'. Got <function sim_affinity at 0x000001F309988430> instead",
     "output_type": "error",
     "traceback": [
      "\u001b[1;31m---------------------------------------------------------------------------\u001b[0m",
      "\u001b[1;31mValueError\u001b[0m                                Traceback (most recent call last)",
      "\u001b[1;32m~\\AppData\\Local\\Temp/ipykernel_13048/2262061517.py\u001b[0m in \u001b[0;36m<module>\u001b[1;34m\u001b[0m\n\u001b[0;32m      1\u001b[0m \u001b[0mstart\u001b[0m \u001b[1;33m=\u001b[0m \u001b[0mtime\u001b[0m\u001b[1;33m.\u001b[0m\u001b[0mperf_counter\u001b[0m\u001b[1;33m(\u001b[0m\u001b[1;33m)\u001b[0m\u001b[1;33m\u001b[0m\u001b[1;33m\u001b[0m\u001b[0m\n\u001b[0;32m      2\u001b[0m \u001b[1;33m\u001b[0m\u001b[0m\n\u001b[1;32m----> 3\u001b[1;33m \u001b[0mres\u001b[0m \u001b[1;33m=\u001b[0m \u001b[0mrunAP\u001b[0m\u001b[1;33m(\u001b[0m\u001b[0mtlist\u001b[0m\u001b[1;33m,\u001b[0m\u001b[1;36m5\u001b[0m\u001b[1;33m)\u001b[0m\u001b[1;33m\u001b[0m\u001b[1;33m\u001b[0m\u001b[0m\n\u001b[0m\u001b[0;32m      4\u001b[0m \u001b[1;33m\u001b[0m\u001b[0m\n\u001b[0;32m      5\u001b[0m \u001b[0mend\u001b[0m \u001b[1;33m=\u001b[0m \u001b[0mround\u001b[0m\u001b[1;33m(\u001b[0m\u001b[0mtime\u001b[0m\u001b[1;33m.\u001b[0m\u001b[0mperf_counter\u001b[0m\u001b[1;33m(\u001b[0m\u001b[1;33m)\u001b[0m \u001b[1;33m-\u001b[0m \u001b[0mstart\u001b[0m\u001b[1;33m,\u001b[0m\u001b[1;36m4\u001b[0m\u001b[1;33m)\u001b[0m\u001b[1;33m\u001b[0m\u001b[1;33m\u001b[0m\u001b[0m\n",
      "\u001b[1;32m~\\Documents\\GitHub\\CYBR7901\\pylib\\tlsh_lib.py\u001b[0m in \u001b[0;36mrunAP\u001b[1;34m(tlist, n)\u001b[0m\n\u001b[0;32m    369\u001b[0m         \u001b[0mcluster\u001b[0m \u001b[1;33m=\u001b[0m \u001b[0mAffinityPropagation\u001b[0m\u001b[1;33m(\u001b[0m\u001b[0maffinity\u001b[0m\u001b[1;33m=\u001b[0m\u001b[0msim_affinity\u001b[0m\u001b[1;33m,\u001b[0m\u001b[0mrandom_state\u001b[0m\u001b[1;33m=\u001b[0m\u001b[0mn\u001b[0m\u001b[1;33m)\u001b[0m\u001b[1;33m\u001b[0m\u001b[1;33m\u001b[0m\u001b[0m\n\u001b[0;32m    370\u001b[0m         \u001b[0mtdata\u001b[0m \u001b[1;33m=\u001b[0m \u001b[0mtlist2cdata\u001b[0m\u001b[1;33m(\u001b[0m\u001b[0mtlist\u001b[0m\u001b[1;33m)\u001b[0m\u001b[1;33m\u001b[0m\u001b[1;33m\u001b[0m\u001b[0m\n\u001b[1;32m--> 371\u001b[1;33m         \u001b[0mClusterNumber\u001b[0m \u001b[1;33m=\u001b[0m \u001b[0mcluster\u001b[0m\u001b[1;33m.\u001b[0m\u001b[0mfit_predict\u001b[0m\u001b[1;33m(\u001b[0m\u001b[0mtdata\u001b[0m\u001b[1;33m)\u001b[0m\u001b[1;33m\u001b[0m\u001b[1;33m\u001b[0m\u001b[0m\n\u001b[0m\u001b[0;32m    372\u001b[0m         \u001b[1;32mreturn\u001b[0m\u001b[1;33m(\u001b[0m\u001b[0mClusterNumber\u001b[0m\u001b[1;33m)\u001b[0m\u001b[1;33m\u001b[0m\u001b[1;33m\u001b[0m\u001b[0m\n\u001b[0;32m    373\u001b[0m \u001b[1;33m\u001b[0m\u001b[0m\n",
      "\u001b[1;32m~\\anaconda3\\lib\\site-packages\\sklearn\\cluster\\_affinity_propagation.py\u001b[0m in \u001b[0;36mfit_predict\u001b[1;34m(self, X, y)\u001b[0m\n\u001b[0;32m    483\u001b[0m             \u001b[0mCluster\u001b[0m \u001b[0mlabels\u001b[0m\u001b[1;33m.\u001b[0m\u001b[1;33m\u001b[0m\u001b[1;33m\u001b[0m\u001b[0m\n\u001b[0;32m    484\u001b[0m         \"\"\"\n\u001b[1;32m--> 485\u001b[1;33m         \u001b[1;32mreturn\u001b[0m \u001b[0msuper\u001b[0m\u001b[1;33m(\u001b[0m\u001b[1;33m)\u001b[0m\u001b[1;33m.\u001b[0m\u001b[0mfit_predict\u001b[0m\u001b[1;33m(\u001b[0m\u001b[0mX\u001b[0m\u001b[1;33m,\u001b[0m \u001b[0my\u001b[0m\u001b[1;33m)\u001b[0m\u001b[1;33m\u001b[0m\u001b[1;33m\u001b[0m\u001b[0m\n\u001b[0m",
      "\u001b[1;32m~\\anaconda3\\lib\\site-packages\\sklearn\\base.py\u001b[0m in \u001b[0;36mfit_predict\u001b[1;34m(self, X, y)\u001b[0m\n\u001b[0;32m    581\u001b[0m         \u001b[1;31m# non-optimized default implementation; override when a better\u001b[0m\u001b[1;33m\u001b[0m\u001b[1;33m\u001b[0m\u001b[0m\n\u001b[0;32m    582\u001b[0m         \u001b[1;31m# method is possible for a given clustering algorithm\u001b[0m\u001b[1;33m\u001b[0m\u001b[1;33m\u001b[0m\u001b[0m\n\u001b[1;32m--> 583\u001b[1;33m         \u001b[0mself\u001b[0m\u001b[1;33m.\u001b[0m\u001b[0mfit\u001b[0m\u001b[1;33m(\u001b[0m\u001b[0mX\u001b[0m\u001b[1;33m)\u001b[0m\u001b[1;33m\u001b[0m\u001b[1;33m\u001b[0m\u001b[0m\n\u001b[0m\u001b[0;32m    584\u001b[0m         \u001b[1;32mreturn\u001b[0m \u001b[0mself\u001b[0m\u001b[1;33m.\u001b[0m\u001b[0mlabels_\u001b[0m\u001b[1;33m\u001b[0m\u001b[1;33m\u001b[0m\u001b[0m\n\u001b[0;32m    585\u001b[0m \u001b[1;33m\u001b[0m\u001b[0m\n",
      "\u001b[1;32m~\\anaconda3\\lib\\site-packages\\sklearn\\cluster\\_affinity_propagation.py\u001b[0m in \u001b[0;36mfit\u001b[1;34m(self, X, y)\u001b[0m\n\u001b[0;32m    417\u001b[0m             \u001b[0mself\u001b[0m\u001b[1;33m.\u001b[0m\u001b[0maffinity_matrix_\u001b[0m \u001b[1;33m=\u001b[0m \u001b[1;33m-\u001b[0m\u001b[0meuclidean_distances\u001b[0m\u001b[1;33m(\u001b[0m\u001b[0mX\u001b[0m\u001b[1;33m,\u001b[0m \u001b[0msquared\u001b[0m\u001b[1;33m=\u001b[0m\u001b[1;32mTrue\u001b[0m\u001b[1;33m)\u001b[0m\u001b[1;33m\u001b[0m\u001b[1;33m\u001b[0m\u001b[0m\n\u001b[0;32m    418\u001b[0m         \u001b[1;32melse\u001b[0m\u001b[1;33m:\u001b[0m\u001b[1;33m\u001b[0m\u001b[1;33m\u001b[0m\u001b[0m\n\u001b[1;32m--> 419\u001b[1;33m             raise ValueError(\"Affinity must be 'precomputed' or \"\n\u001b[0m\u001b[0;32m    420\u001b[0m                              \u001b[1;34m\"'euclidean'. Got %s instead\"\u001b[0m\u001b[1;33m\u001b[0m\u001b[1;33m\u001b[0m\u001b[0m\n\u001b[0;32m    421\u001b[0m                              % str(self.affinity))\n",
      "\u001b[1;31mValueError\u001b[0m: Affinity must be 'precomputed' or 'euclidean'. Got <function sim_affinity at 0x000001F309988430> instead"
     ]
    }
   ],
   "source": [
    "start = time.perf_counter()\n",
    "\n",
    "res = runAP(tlist,5)\n",
    "\n",
    "end = round(time.perf_counter() - start,4)\n",
    "print(\"Code ran in \" + str(end) + \" seconds\")\n",
    "\n",
    "#outfile = path + \"/output/\" + filename + \"_kmean_out.txt\"\n",
    "#outputClusters(outfile, tlist, res.labels_, labelList)\n",
    "\n",
    "#dict = getResult(\"tlsh\",\"ap\",labelList,res.labels_)\n",
    "#df = df.append(dict, ignore_index = True)\n",
    "#df"
   ]
  },
  {
   "cell_type": "code",
   "execution_count": null,
   "id": "a2edd772",
   "metadata": {},
   "outputs": [],
   "source": [
    "res"
   ]
  },
  {
   "cell_type": "markdown",
   "id": "1052437b",
   "metadata": {},
   "source": [
    "# Mean Shift"
   ]
  },
  {
   "cell_type": "code",
   "execution_count": null,
   "id": "ad493498",
   "metadata": {},
   "outputs": [],
   "source": [
    "from sklearn.cluster import MeanShift\n",
    "\n",
    "start = time.perf_counter()\n",
    "\n",
    "tdata = tlist2cdata(tlist)\n",
    "\n",
    "res = MeanShift(bandwidth=2).fit(tdata)\n",
    "\n",
    "end = round(time.perf_counter() - start,4)\n",
    "print(\"Code ran in \" + str(end) + \" seconds\")\n",
    "res"
   ]
  },
  {
   "cell_type": "code",
   "execution_count": null,
   "id": "e4922895",
   "metadata": {},
   "outputs": [],
   "source": [
    "res.labels_"
   ]
  },
  {
   "cell_type": "markdown",
   "id": "e8a69ed7",
   "metadata": {},
   "source": [
    "# Spectral Clustering"
   ]
  },
  {
   "cell_type": "code",
   "execution_count": null,
   "id": "747d1566",
   "metadata": {},
   "outputs": [],
   "source": [
    "from sklearn.cluster import SpectralClustering\n",
    "\n",
    "start = time.perf_counter()\n",
    "\n",
    "tdata = tlist2cdata(tlist)\n",
    "\n",
    "res = SpectralClustering(n_clusters=nlable, assign_labels='discretize', \n",
    "                         random_state=0).fit(tdata)\n",
    "\n",
    "end = round(time.perf_counter() - start,4)\n",
    "print(\"Code ran in \" + str(end) + \" seconds\")\n",
    "res"
   ]
  },
  {
   "cell_type": "code",
   "execution_count": null,
   "id": "ac2a936f",
   "metadata": {},
   "outputs": [],
   "source": [
    "res.labels_"
   ]
  },
  {
   "cell_type": "markdown",
   "id": "b1342772",
   "metadata": {},
   "source": [
    "# OPTICS"
   ]
  },
  {
   "cell_type": "code",
   "execution_count": 17,
   "id": "3f4c2e6b",
   "metadata": {},
   "outputs": [
    {
     "name": "stdout",
     "output_type": "stream",
     "text": [
      "Code ran in 2.178 seconds\n"
     ]
    },
    {
     "name": "stderr",
     "output_type": "stream",
     "text": [
      "C:\\Users\\user\\anaconda3\\lib\\site-packages\\sklearn\\cluster\\_optics.py:807: RuntimeWarning: divide by zero encountered in true_divide\n",
      "  ratio = reachability_plot[:-1] / reachability_plot[1:]\n"
     ]
    },
    {
     "data": {
      "text/plain": [
       "array([  0,  -1,  -1,  -1, 117,  -1,   7,  -1, 117,  -1,   1,  68,  38,\n",
       "         7,  -1,  -1,  14,  -1,  -1,  -1,  49, 193, 183,  79,  42,  38,\n",
       "        -1, 103,  92, 106,  -1,  38,  69,  -1,  69,  36,   7,  94,  -1,\n",
       "        -1,  -1,  -1,  29,  -1, 169,  74,  74,  36,  33,  71,  97,  97,\n",
       "       162, 163,  88,  97, 146,  31,  -1,  -1,  31,  -1,  -1, 115,  54,\n",
       "        54,  49,  -1, 148,  42,  72, 112, 107, 160, 147,  -1,  66,  33,\n",
       "       160,  -1,  -1, 176,  -1, 174, 174, 175, 175, 179, 180, 108,  -1,\n",
       "        -1, 113,  -1, 156, 112,  -1,  -1,  -1,  -1,   1, 158, 151,  -1,\n",
       "        -1,  -1,  -1,  -1, 198,  -1,  -1,  66,  66,  -1, 195, 168,  -1,\n",
       "       148, 148,  -1,  -1,  -1,  -1,  -1,  -1,  -1,  73,  64,  73,  -1,\n",
       "        -1,  -1,  64, 186, 186, 185, 186, 186, 185,  33,  -1,  -1, 152,\n",
       "       152, 152, 152,  50, 152,  49, 147,  49, 111,   2,   2,  -1,  71,\n",
       "        -1,  -1,  -1,  43,  43, 190, 169,  77,  -1, 111,  -1, 156,  -1,\n",
       "        47,   0,  79,  -1,  34, 185, 188,  55,  55,   2, 186,  -1,   2,\n",
       "       111,  13, 166,  48,  -1,  -1,  -1, 171,  -1,  -1,  36,  69,  -1,\n",
       "        -1,  -1,  -1,  -1,  36,  -1,  -1, 169,  -1, 116,  -1,  49,  -1,\n",
       "       177, 177,   2,  -1,  -1,  -1,  -1,   0, 148, 157, 157,  -1, 123,\n",
       "       141, 124,  -1,  -1, 139, 134,  -1, 144, 139, 137, 144,  -1, 122,\n",
       "       123, 135, 140, 126, 124, 144, 144,  -1, 130, 139,  -1, 123,  -1,\n",
       "       136, 123, 135, 135, 135,  -1,  -1,  -1, 135, 139,  -1,  -1, 134,\n",
       "       138, 139, 141, 140, 137,  -1, 123,  -1, 144, 123,  -1, 144,  -1,\n",
       "        -1,  -1,  -1, 138, 123, 141,  -1,  -1, 144, 135, 136, 122, 126,\n",
       "       134, 171, 181, 113,  -1, 181, 181, 180,  -1,  -1,  62,  -1, 153,\n",
       "       118,  67,  50,   2,  30,   2,  69,  60,   2,  78,  60,  60,   2,\n",
       "        -1, 148,  42, 160, 142, 160,  -1, 160, 160, 142, 199, 108, 102,\n",
       "       113, 109, 164, 161, 106, 102,  77,  77,  -1,  96,  85,  86,  -1,\n",
       "       162,  84,  94,  -1, 163,  -1,  94, 105,  85,  84,  94,  89,  -1,\n",
       "        35,  35,  -1,  -1,  -1, 163, 105, 163,  96,  84,  84,  95,  95,\n",
       "       105,  85, 161,  89,  -1, 118, 180,  88,  86,  87,  87,  44,  78,\n",
       "        -1,  -1,   8,  21, 159,  21,  -1, 165, 101, 115,  -1,  -1, 159,\n",
       "       104,  90,  90, 104,  81,  72, 149,   3,  -1,  -1, 107, 161,  -1,\n",
       "       112, 180, 118,   8, 114,  -1,  81,   8, 199, 151,  68,  14,   3,\n",
       "        37, 143,  42,  41,  14,  51,  49,  48,  -1, 199, 187, 188, 187,\n",
       "       187, 148,  -1,  81,  76,  76, 150,  -1,  -1,  -1,  -1,  50,  70,\n",
       "        82,  40,  51, 114,  67,  -1,  -1, 144,  -1, 196, 110,  -1,  51,\n",
       "        51, 179, 166, 196,  -1, 189, 189, 196,   8,  -1,  -1,  -1,  -1,\n",
       "        23,  40,   6,  12, 166,   9,  -1,  -1,  -1,  -1,   8,   8,  42,\n",
       "        -1, 144, 167,  78,  51,  37,   8,  37,   8,   8,  -1,   4,  80,\n",
       "       155,  75, 155,  80,  -1,  75,  37,  -1,  16,  -1,  -1,  -1, 192,\n",
       "        75, 191, 191, 191, 191,  -1, 191, 192,  51, 158,   8,  41, 145,\n",
       "        -1,  -1,   8,   8, 166,  41,  42,  -1,  -1,  82,  82,  22,  22,\n",
       "        -1,  22,  68,  -1,  -1,  20,  -1,  -1, 188, 188,  23,  -1,  -1,\n",
       "        -1,  -1,  -1,  -1,  -1,  -1,  -1,  -1,  37, 110,  16,  -1,  -1,\n",
       "        -1, 195, 167, 168,  37,  -1, 154, 200, 154,  64,  -1,  -1,  -1,\n",
       "        16,  -1,  -1,  -1,  -1,  -1,  -1,  52,  52,  -1,  -1,  -1,  57,\n",
       "        -1,  57, 127, 119,  -1,  -1, 128,  -1, 128, 124, 121, 129, 124,\n",
       "       130,  29,  -1,  -1, 124,  -1,  -1,  -1,  -1, 124, 119, 127,  29,\n",
       "        -1, 120,  57, 127,  -1,  -1,  57, 131, 121,  -1, 131,  -1, 126,\n",
       "        -1, 125,  -1,  51, 129,  -1,  -1,  -1,  -1, 127, 133, 119,  29,\n",
       "       126,  57, 127, 125,  -1,  -1, 133, 120,  -1, 132, 132,  -1,  -1,\n",
       "       126,  -1,  -1,  -1,  41,  -1,  56,  -1,  68,   8,  -1,  10,  -1,\n",
       "        -1,  -1,  -1,  -1,  -1,   9, 149,   8,  -1,  12,  -1,  -1,  56,\n",
       "       173,  -1, 182, 182,  -1,  -1,  -1,  -1,  63,  63,  -1,  -1,  45,\n",
       "        39,  15,  15,  -1,  45,  -1,  -1,  46,  46,  46,  -1,  17,  19,\n",
       "        19,  17,  -1,  17,  -1,  18,  44,  18,  -1,  -1,  -1,  53,  10,\n",
       "        53,  53,  53,  53,  53,  53,  17,  -1,  -1,  25,  68,  25,  -1,\n",
       "       153,  -1,  -1,  -1,  -1,  -1,  61,  -1,  -1,  39,  11, 173, 183,\n",
       "        -1,  -1,  -1,  -1,  -1,  -1,  -1,  -1, 173, 193,  12,  62,  -1,\n",
       "        -1, 170, 176, 176, 176, 176, 166,  39,  67,  -1,  11,  -1, 158,\n",
       "        -1,  28,  40, 190,  83, 115,  -1, 178,  -1,  -1, 113, 100, 164,\n",
       "        93, 161, 108,  98, 113,  99, 109, 103, 106,  92,  -1, 100, 106,\n",
       "        93, 178,  -1, 172, 106, 103,  92,  -1,  -1,  13,  -1,  72,  -1,\n",
       "       115,  -1, 158, 172,  -1,  -1,  28,  -1,  -1,  28,  -1,  58, 118,\n",
       "         4, 172,  -1,  28,   5,  -1,   4,  -1,  91, 106,  -1,  -1, 170,\n",
       "        -1,  -1,  -1,  -1,  -1, 198,  -1, 145,  -1, 197, 199, 198,  -1,\n",
       "        -1,  -1,  -1,  -1,  73,  -1, 200, 185, 185,  -1,  -1, 150,  -1,\n",
       "         4,   5,  40,  -1,  67,  -1,  59, 146,  -1,  -1,   4,  59,  -1,\n",
       "        -1,  59,  65,  -1, 160,  65,  83,  55,  -1,  91,  -1,   4,  59,\n",
       "        83,  -1,  -1,  70,  -1,  -1, 115,   5,  62,  -1, 197, 184, 184,\n",
       "        -1, 197, 194,   6,   5, 198,  -1,  32,  -1,  -1,  32,  -1,  -1,\n",
       "        62,  -1,   6,   5,   6,  59,  -1,  -1,  -1,  -1,  -1,  30,  61,\n",
       "       148,   5,  68,  99, 109, 113, 165, 161, 108,  98,  27,  -1,  27,\n",
       "        34,  68,  32,  -1,  43, 194,  -1, 116,  -1, 101, 106,  91, 190,\n",
       "        34,  -1,  -1,  58,  -1,  -1,  20,  -1,   5,  -1, 188,  -1,  67,\n",
       "        -1,  58,  -1,  58,  24,  59,  24,  22,  -1,  26,  26,  47,  59,\n",
       "        -1,  32,  -1,  -1, 170,  -1,  -1,   5,  -1, 143,  -1,  30,  30,\n",
       "        29, 143, 143,  59,  -1,  -1,  -1,  68,  43,  67,  -1,   5])"
      ]
     },
     "execution_count": 17,
     "metadata": {},
     "output_type": "execute_result"
    }
   ],
   "source": [
    "from sklearn.cluster import OPTICS\n",
    "\n",
    "start = time.perf_counter()\n",
    "\n",
    "res = runOPTICS(tlist,2)\n",
    "\n",
    "end = round(time.perf_counter() - start,4)\n",
    "print(\"Code ran in \" + str(end) + \" seconds\")\n",
    "res"
   ]
  },
  {
   "cell_type": "code",
   "execution_count": 18,
   "id": "f44c7acf",
   "metadata": {},
   "outputs": [
    {
     "ename": "AttributeError",
     "evalue": "'numpy.ndarray' object has no attribute 'labels_'",
     "output_type": "error",
     "traceback": [
      "\u001b[1;31m---------------------------------------------------------------------------\u001b[0m",
      "\u001b[1;31mAttributeError\u001b[0m                            Traceback (most recent call last)",
      "\u001b[1;32m~\\AppData\\Local\\Temp/ipykernel_13048/827095448.py\u001b[0m in \u001b[0;36m<module>\u001b[1;34m\u001b[0m\n\u001b[1;32m----> 1\u001b[1;33m \u001b[0mres\u001b[0m\u001b[1;33m.\u001b[0m\u001b[0mlabels_\u001b[0m\u001b[1;33m\u001b[0m\u001b[1;33m\u001b[0m\u001b[0m\n\u001b[0m",
      "\u001b[1;31mAttributeError\u001b[0m: 'numpy.ndarray' object has no attribute 'labels_'"
     ]
    }
   ],
   "source": [
    "res.labels_"
   ]
  },
  {
   "cell_type": "markdown",
   "id": "5621ba8b",
   "metadata": {},
   "source": [
    "# Birch"
   ]
  },
  {
   "cell_type": "code",
   "execution_count": null,
   "id": "02986f3c",
   "metadata": {},
   "outputs": [],
   "source": [
    "from sklearn.cluster import Birch\n",
    "\n",
    "start = time.perf_counter()\n",
    "\n",
    "tdata = tlist2cdata(tlist)\n",
    "\n",
    "res = Birch(n_clusters=nlable).fit(tdata)\n",
    "\n",
    "end = round(time.perf_counter() - start,4)\n",
    "print(\"Code ran in \" + str(end) + \" seconds\")\n",
    "res"
   ]
  },
  {
   "cell_type": "code",
   "execution_count": null,
   "id": "b62232f8",
   "metadata": {},
   "outputs": [],
   "source": [
    "res.labels_"
   ]
  },
  {
   "cell_type": "code",
   "execution_count": null,
   "id": "1423344f",
   "metadata": {},
   "outputs": [],
   "source": []
  },
  {
   "cell_type": "code",
   "execution_count": null,
   "id": "11f06ec5",
   "metadata": {},
   "outputs": [],
   "source": []
  }
 ],
 "metadata": {
  "kernelspec": {
   "display_name": "Python 3 (ipykernel)",
   "language": "python",
   "name": "python3"
  },
  "language_info": {
   "codemirror_mode": {
    "name": "ipython",
    "version": 3
   },
   "file_extension": ".py",
   "mimetype": "text/x-python",
   "name": "python",
   "nbconvert_exporter": "python",
   "pygments_lexer": "ipython3",
   "version": "3.9.7"
  }
 },
 "nbformat": 4,
 "nbformat_minor": 5
}
